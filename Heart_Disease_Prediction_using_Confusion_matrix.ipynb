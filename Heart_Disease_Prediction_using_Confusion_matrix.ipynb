{
  "nbformat": 4,
  "nbformat_minor": 0,
  "metadata": {
    "colab": {
      "name": "Heart Disease Prediction using Confusion matrix.ipynb",
      "provenance": [],
      "mount_file_id": "12pDulUb4kScFmy2i4xyEDn6b9uv0fOeu",
      "authorship_tag": "ABX9TyPguYp43DGXSXE1fNeWbP5P",
      "include_colab_link": true
    },
    "kernelspec": {
      "name": "python3",
      "display_name": "Python 3"
    },
    "language_info": {
      "name": "python"
    }
  },
  "cells": [
    {
      "cell_type": "markdown",
      "metadata": {
        "id": "view-in-github",
        "colab_type": "text"
      },
      "source": [
        "<a href=\"https://colab.research.google.com/github/Gryffindorrr/Heart-Disease-Prediction-using-Confusion-metrix/blob/main/Heart_Disease_Prediction_using_Confusion_matrix.ipynb\" target=\"_parent\"><img src=\"https://colab.research.google.com/assets/colab-badge.svg\" alt=\"Open In Colab\"/></a>"
      ]
    },
    {
      "cell_type": "code",
      "execution_count": 101,
      "metadata": {
        "id": "xX7V0BwovzRt"
      },
      "outputs": [],
      "source": [
        "import pandas as pd\n",
        "import numpy as np\n",
        "import matplotlib.pyplot as plt\n",
        "import seaborn as sn\n",
        "from sklearn.model_selection import train_test_split\n",
        "from sklearn.preprocessing import StandardScaler"
      ]
    },
    {
      "cell_type": "code",
      "source": [
        "df = pd.read_csv(r'heart.csv')\n",
        "df.head()"
      ],
      "metadata": {
        "colab": {
          "base_uri": "https://localhost:8080/",
          "height": 206
        },
        "id": "vQFjdJvCv2fj",
        "outputId": "24a0e65a-2c80-42f0-9b87-5fc8d1c1eac3"
      },
      "execution_count": 102,
      "outputs": [
        {
          "output_type": "execute_result",
          "data": {
            "text/plain": [
              "   age  sex  cp  trestbps  chol  fbs  restecg  thalach  exang  oldpeak  slope  \\\n",
              "0   63    1   1       145   233    1        2      150      0      2.3      3   \n",
              "1   67    1   4       160   286    0        2      108      1      1.5      2   \n",
              "2   67    1   4       120   229    0        2      129      1      2.6      2   \n",
              "3   37    1   3       130   250    0        0      187      0      3.5      3   \n",
              "4   41    0   2       130   204    0        2      172      0      1.4      1   \n",
              "\n",
              "   ca  thal  target  \n",
              "0   0     6       0  \n",
              "1   3     3       2  \n",
              "2   2     7       1  \n",
              "3   0     3       0  \n",
              "4   0     3       0  "
            ],
            "text/html": [
              "\n",
              "  <div id=\"df-bb0d040e-725a-4bf9-94c8-acd2e66e7f59\">\n",
              "    <div class=\"colab-df-container\">\n",
              "      <div>\n",
              "<style scoped>\n",
              "    .dataframe tbody tr th:only-of-type {\n",
              "        vertical-align: middle;\n",
              "    }\n",
              "\n",
              "    .dataframe tbody tr th {\n",
              "        vertical-align: top;\n",
              "    }\n",
              "\n",
              "    .dataframe thead th {\n",
              "        text-align: right;\n",
              "    }\n",
              "</style>\n",
              "<table border=\"1\" class=\"dataframe\">\n",
              "  <thead>\n",
              "    <tr style=\"text-align: right;\">\n",
              "      <th></th>\n",
              "      <th>age</th>\n",
              "      <th>sex</th>\n",
              "      <th>cp</th>\n",
              "      <th>trestbps</th>\n",
              "      <th>chol</th>\n",
              "      <th>fbs</th>\n",
              "      <th>restecg</th>\n",
              "      <th>thalach</th>\n",
              "      <th>exang</th>\n",
              "      <th>oldpeak</th>\n",
              "      <th>slope</th>\n",
              "      <th>ca</th>\n",
              "      <th>thal</th>\n",
              "      <th>target</th>\n",
              "    </tr>\n",
              "  </thead>\n",
              "  <tbody>\n",
              "    <tr>\n",
              "      <th>0</th>\n",
              "      <td>63</td>\n",
              "      <td>1</td>\n",
              "      <td>1</td>\n",
              "      <td>145</td>\n",
              "      <td>233</td>\n",
              "      <td>1</td>\n",
              "      <td>2</td>\n",
              "      <td>150</td>\n",
              "      <td>0</td>\n",
              "      <td>2.3</td>\n",
              "      <td>3</td>\n",
              "      <td>0</td>\n",
              "      <td>6</td>\n",
              "      <td>0</td>\n",
              "    </tr>\n",
              "    <tr>\n",
              "      <th>1</th>\n",
              "      <td>67</td>\n",
              "      <td>1</td>\n",
              "      <td>4</td>\n",
              "      <td>160</td>\n",
              "      <td>286</td>\n",
              "      <td>0</td>\n",
              "      <td>2</td>\n",
              "      <td>108</td>\n",
              "      <td>1</td>\n",
              "      <td>1.5</td>\n",
              "      <td>2</td>\n",
              "      <td>3</td>\n",
              "      <td>3</td>\n",
              "      <td>2</td>\n",
              "    </tr>\n",
              "    <tr>\n",
              "      <th>2</th>\n",
              "      <td>67</td>\n",
              "      <td>1</td>\n",
              "      <td>4</td>\n",
              "      <td>120</td>\n",
              "      <td>229</td>\n",
              "      <td>0</td>\n",
              "      <td>2</td>\n",
              "      <td>129</td>\n",
              "      <td>1</td>\n",
              "      <td>2.6</td>\n",
              "      <td>2</td>\n",
              "      <td>2</td>\n",
              "      <td>7</td>\n",
              "      <td>1</td>\n",
              "    </tr>\n",
              "    <tr>\n",
              "      <th>3</th>\n",
              "      <td>37</td>\n",
              "      <td>1</td>\n",
              "      <td>3</td>\n",
              "      <td>130</td>\n",
              "      <td>250</td>\n",
              "      <td>0</td>\n",
              "      <td>0</td>\n",
              "      <td>187</td>\n",
              "      <td>0</td>\n",
              "      <td>3.5</td>\n",
              "      <td>3</td>\n",
              "      <td>0</td>\n",
              "      <td>3</td>\n",
              "      <td>0</td>\n",
              "    </tr>\n",
              "    <tr>\n",
              "      <th>4</th>\n",
              "      <td>41</td>\n",
              "      <td>0</td>\n",
              "      <td>2</td>\n",
              "      <td>130</td>\n",
              "      <td>204</td>\n",
              "      <td>0</td>\n",
              "      <td>2</td>\n",
              "      <td>172</td>\n",
              "      <td>0</td>\n",
              "      <td>1.4</td>\n",
              "      <td>1</td>\n",
              "      <td>0</td>\n",
              "      <td>3</td>\n",
              "      <td>0</td>\n",
              "    </tr>\n",
              "  </tbody>\n",
              "</table>\n",
              "</div>\n",
              "      <button class=\"colab-df-convert\" onclick=\"convertToInteractive('df-bb0d040e-725a-4bf9-94c8-acd2e66e7f59')\"\n",
              "              title=\"Convert this dataframe to an interactive table.\"\n",
              "              style=\"display:none;\">\n",
              "        \n",
              "  <svg xmlns=\"http://www.w3.org/2000/svg\" height=\"24px\"viewBox=\"0 0 24 24\"\n",
              "       width=\"24px\">\n",
              "    <path d=\"M0 0h24v24H0V0z\" fill=\"none\"/>\n",
              "    <path d=\"M18.56 5.44l.94 2.06.94-2.06 2.06-.94-2.06-.94-.94-2.06-.94 2.06-2.06.94zm-11 1L8.5 8.5l.94-2.06 2.06-.94-2.06-.94L8.5 2.5l-.94 2.06-2.06.94zm10 10l.94 2.06.94-2.06 2.06-.94-2.06-.94-.94-2.06-.94 2.06-2.06.94z\"/><path d=\"M17.41 7.96l-1.37-1.37c-.4-.4-.92-.59-1.43-.59-.52 0-1.04.2-1.43.59L10.3 9.45l-7.72 7.72c-.78.78-.78 2.05 0 2.83L4 21.41c.39.39.9.59 1.41.59.51 0 1.02-.2 1.41-.59l7.78-7.78 2.81-2.81c.8-.78.8-2.07 0-2.86zM5.41 20L4 18.59l7.72-7.72 1.47 1.35L5.41 20z\"/>\n",
              "  </svg>\n",
              "      </button>\n",
              "      \n",
              "  <style>\n",
              "    .colab-df-container {\n",
              "      display:flex;\n",
              "      flex-wrap:wrap;\n",
              "      gap: 12px;\n",
              "    }\n",
              "\n",
              "    .colab-df-convert {\n",
              "      background-color: #E8F0FE;\n",
              "      border: none;\n",
              "      border-radius: 50%;\n",
              "      cursor: pointer;\n",
              "      display: none;\n",
              "      fill: #1967D2;\n",
              "      height: 32px;\n",
              "      padding: 0 0 0 0;\n",
              "      width: 32px;\n",
              "    }\n",
              "\n",
              "    .colab-df-convert:hover {\n",
              "      background-color: #E2EBFA;\n",
              "      box-shadow: 0px 1px 2px rgba(60, 64, 67, 0.3), 0px 1px 3px 1px rgba(60, 64, 67, 0.15);\n",
              "      fill: #174EA6;\n",
              "    }\n",
              "\n",
              "    [theme=dark] .colab-df-convert {\n",
              "      background-color: #3B4455;\n",
              "      fill: #D2E3FC;\n",
              "    }\n",
              "\n",
              "    [theme=dark] .colab-df-convert:hover {\n",
              "      background-color: #434B5C;\n",
              "      box-shadow: 0px 1px 3px 1px rgba(0, 0, 0, 0.15);\n",
              "      filter: drop-shadow(0px 1px 2px rgba(0, 0, 0, 0.3));\n",
              "      fill: #FFFFFF;\n",
              "    }\n",
              "  </style>\n",
              "\n",
              "      <script>\n",
              "        const buttonEl =\n",
              "          document.querySelector('#df-bb0d040e-725a-4bf9-94c8-acd2e66e7f59 button.colab-df-convert');\n",
              "        buttonEl.style.display =\n",
              "          google.colab.kernel.accessAllowed ? 'block' : 'none';\n",
              "\n",
              "        async function convertToInteractive(key) {\n",
              "          const element = document.querySelector('#df-bb0d040e-725a-4bf9-94c8-acd2e66e7f59');\n",
              "          const dataTable =\n",
              "            await google.colab.kernel.invokeFunction('convertToInteractive',\n",
              "                                                     [key], {});\n",
              "          if (!dataTable) return;\n",
              "\n",
              "          const docLinkHtml = 'Like what you see? Visit the ' +\n",
              "            '<a target=\"_blank\" href=https://colab.research.google.com/notebooks/data_table.ipynb>data table notebook</a>'\n",
              "            + ' to learn more about interactive tables.';\n",
              "          element.innerHTML = '';\n",
              "          dataTable['output_type'] = 'display_data';\n",
              "          await google.colab.output.renderOutput(dataTable, element);\n",
              "          const docLink = document.createElement('div');\n",
              "          docLink.innerHTML = docLinkHtml;\n",
              "          element.appendChild(docLink);\n",
              "        }\n",
              "      </script>\n",
              "    </div>\n",
              "  </div>\n",
              "  "
            ]
          },
          "metadata": {},
          "execution_count": 102
        }
      ]
    },
    {
      "cell_type": "code",
      "source": [
        "df.head()"
      ],
      "metadata": {
        "colab": {
          "base_uri": "https://localhost:8080/",
          "height": 206
        },
        "id": "0O3Mk2AewDwU",
        "outputId": "e7b87e78-aed5-4a4e-9b79-84ca770c13d5"
      },
      "execution_count": 103,
      "outputs": [
        {
          "output_type": "execute_result",
          "data": {
            "text/plain": [
              "   age  sex  cp  trestbps  chol  fbs  restecg  thalach  exang  oldpeak  slope  \\\n",
              "0   63    1   1       145   233    1        2      150      0      2.3      3   \n",
              "1   67    1   4       160   286    0        2      108      1      1.5      2   \n",
              "2   67    1   4       120   229    0        2      129      1      2.6      2   \n",
              "3   37    1   3       130   250    0        0      187      0      3.5      3   \n",
              "4   41    0   2       130   204    0        2      172      0      1.4      1   \n",
              "\n",
              "   ca  thal  target  \n",
              "0   0     6       0  \n",
              "1   3     3       2  \n",
              "2   2     7       1  \n",
              "3   0     3       0  \n",
              "4   0     3       0  "
            ],
            "text/html": [
              "\n",
              "  <div id=\"df-2b040e48-b045-4aa5-97df-174ebe63241b\">\n",
              "    <div class=\"colab-df-container\">\n",
              "      <div>\n",
              "<style scoped>\n",
              "    .dataframe tbody tr th:only-of-type {\n",
              "        vertical-align: middle;\n",
              "    }\n",
              "\n",
              "    .dataframe tbody tr th {\n",
              "        vertical-align: top;\n",
              "    }\n",
              "\n",
              "    .dataframe thead th {\n",
              "        text-align: right;\n",
              "    }\n",
              "</style>\n",
              "<table border=\"1\" class=\"dataframe\">\n",
              "  <thead>\n",
              "    <tr style=\"text-align: right;\">\n",
              "      <th></th>\n",
              "      <th>age</th>\n",
              "      <th>sex</th>\n",
              "      <th>cp</th>\n",
              "      <th>trestbps</th>\n",
              "      <th>chol</th>\n",
              "      <th>fbs</th>\n",
              "      <th>restecg</th>\n",
              "      <th>thalach</th>\n",
              "      <th>exang</th>\n",
              "      <th>oldpeak</th>\n",
              "      <th>slope</th>\n",
              "      <th>ca</th>\n",
              "      <th>thal</th>\n",
              "      <th>target</th>\n",
              "    </tr>\n",
              "  </thead>\n",
              "  <tbody>\n",
              "    <tr>\n",
              "      <th>0</th>\n",
              "      <td>63</td>\n",
              "      <td>1</td>\n",
              "      <td>1</td>\n",
              "      <td>145</td>\n",
              "      <td>233</td>\n",
              "      <td>1</td>\n",
              "      <td>2</td>\n",
              "      <td>150</td>\n",
              "      <td>0</td>\n",
              "      <td>2.3</td>\n",
              "      <td>3</td>\n",
              "      <td>0</td>\n",
              "      <td>6</td>\n",
              "      <td>0</td>\n",
              "    </tr>\n",
              "    <tr>\n",
              "      <th>1</th>\n",
              "      <td>67</td>\n",
              "      <td>1</td>\n",
              "      <td>4</td>\n",
              "      <td>160</td>\n",
              "      <td>286</td>\n",
              "      <td>0</td>\n",
              "      <td>2</td>\n",
              "      <td>108</td>\n",
              "      <td>1</td>\n",
              "      <td>1.5</td>\n",
              "      <td>2</td>\n",
              "      <td>3</td>\n",
              "      <td>3</td>\n",
              "      <td>2</td>\n",
              "    </tr>\n",
              "    <tr>\n",
              "      <th>2</th>\n",
              "      <td>67</td>\n",
              "      <td>1</td>\n",
              "      <td>4</td>\n",
              "      <td>120</td>\n",
              "      <td>229</td>\n",
              "      <td>0</td>\n",
              "      <td>2</td>\n",
              "      <td>129</td>\n",
              "      <td>1</td>\n",
              "      <td>2.6</td>\n",
              "      <td>2</td>\n",
              "      <td>2</td>\n",
              "      <td>7</td>\n",
              "      <td>1</td>\n",
              "    </tr>\n",
              "    <tr>\n",
              "      <th>3</th>\n",
              "      <td>37</td>\n",
              "      <td>1</td>\n",
              "      <td>3</td>\n",
              "      <td>130</td>\n",
              "      <td>250</td>\n",
              "      <td>0</td>\n",
              "      <td>0</td>\n",
              "      <td>187</td>\n",
              "      <td>0</td>\n",
              "      <td>3.5</td>\n",
              "      <td>3</td>\n",
              "      <td>0</td>\n",
              "      <td>3</td>\n",
              "      <td>0</td>\n",
              "    </tr>\n",
              "    <tr>\n",
              "      <th>4</th>\n",
              "      <td>41</td>\n",
              "      <td>0</td>\n",
              "      <td>2</td>\n",
              "      <td>130</td>\n",
              "      <td>204</td>\n",
              "      <td>0</td>\n",
              "      <td>2</td>\n",
              "      <td>172</td>\n",
              "      <td>0</td>\n",
              "      <td>1.4</td>\n",
              "      <td>1</td>\n",
              "      <td>0</td>\n",
              "      <td>3</td>\n",
              "      <td>0</td>\n",
              "    </tr>\n",
              "  </tbody>\n",
              "</table>\n",
              "</div>\n",
              "      <button class=\"colab-df-convert\" onclick=\"convertToInteractive('df-2b040e48-b045-4aa5-97df-174ebe63241b')\"\n",
              "              title=\"Convert this dataframe to an interactive table.\"\n",
              "              style=\"display:none;\">\n",
              "        \n",
              "  <svg xmlns=\"http://www.w3.org/2000/svg\" height=\"24px\"viewBox=\"0 0 24 24\"\n",
              "       width=\"24px\">\n",
              "    <path d=\"M0 0h24v24H0V0z\" fill=\"none\"/>\n",
              "    <path d=\"M18.56 5.44l.94 2.06.94-2.06 2.06-.94-2.06-.94-.94-2.06-.94 2.06-2.06.94zm-11 1L8.5 8.5l.94-2.06 2.06-.94-2.06-.94L8.5 2.5l-.94 2.06-2.06.94zm10 10l.94 2.06.94-2.06 2.06-.94-2.06-.94-.94-2.06-.94 2.06-2.06.94z\"/><path d=\"M17.41 7.96l-1.37-1.37c-.4-.4-.92-.59-1.43-.59-.52 0-1.04.2-1.43.59L10.3 9.45l-7.72 7.72c-.78.78-.78 2.05 0 2.83L4 21.41c.39.39.9.59 1.41.59.51 0 1.02-.2 1.41-.59l7.78-7.78 2.81-2.81c.8-.78.8-2.07 0-2.86zM5.41 20L4 18.59l7.72-7.72 1.47 1.35L5.41 20z\"/>\n",
              "  </svg>\n",
              "      </button>\n",
              "      \n",
              "  <style>\n",
              "    .colab-df-container {\n",
              "      display:flex;\n",
              "      flex-wrap:wrap;\n",
              "      gap: 12px;\n",
              "    }\n",
              "\n",
              "    .colab-df-convert {\n",
              "      background-color: #E8F0FE;\n",
              "      border: none;\n",
              "      border-radius: 50%;\n",
              "      cursor: pointer;\n",
              "      display: none;\n",
              "      fill: #1967D2;\n",
              "      height: 32px;\n",
              "      padding: 0 0 0 0;\n",
              "      width: 32px;\n",
              "    }\n",
              "\n",
              "    .colab-df-convert:hover {\n",
              "      background-color: #E2EBFA;\n",
              "      box-shadow: 0px 1px 2px rgba(60, 64, 67, 0.3), 0px 1px 3px 1px rgba(60, 64, 67, 0.15);\n",
              "      fill: #174EA6;\n",
              "    }\n",
              "\n",
              "    [theme=dark] .colab-df-convert {\n",
              "      background-color: #3B4455;\n",
              "      fill: #D2E3FC;\n",
              "    }\n",
              "\n",
              "    [theme=dark] .colab-df-convert:hover {\n",
              "      background-color: #434B5C;\n",
              "      box-shadow: 0px 1px 3px 1px rgba(0, 0, 0, 0.15);\n",
              "      filter: drop-shadow(0px 1px 2px rgba(0, 0, 0, 0.3));\n",
              "      fill: #FFFFFF;\n",
              "    }\n",
              "  </style>\n",
              "\n",
              "      <script>\n",
              "        const buttonEl =\n",
              "          document.querySelector('#df-2b040e48-b045-4aa5-97df-174ebe63241b button.colab-df-convert');\n",
              "        buttonEl.style.display =\n",
              "          google.colab.kernel.accessAllowed ? 'block' : 'none';\n",
              "\n",
              "        async function convertToInteractive(key) {\n",
              "          const element = document.querySelector('#df-2b040e48-b045-4aa5-97df-174ebe63241b');\n",
              "          const dataTable =\n",
              "            await google.colab.kernel.invokeFunction('convertToInteractive',\n",
              "                                                     [key], {});\n",
              "          if (!dataTable) return;\n",
              "\n",
              "          const docLinkHtml = 'Like what you see? Visit the ' +\n",
              "            '<a target=\"_blank\" href=https://colab.research.google.com/notebooks/data_table.ipynb>data table notebook</a>'\n",
              "            + ' to learn more about interactive tables.';\n",
              "          element.innerHTML = '';\n",
              "          dataTable['output_type'] = 'display_data';\n",
              "          await google.colab.output.renderOutput(dataTable, element);\n",
              "          const docLink = document.createElement('div');\n",
              "          docLink.innerHTML = docLinkHtml;\n",
              "          element.appendChild(docLink);\n",
              "        }\n",
              "      </script>\n",
              "    </div>\n",
              "  </div>\n",
              "  "
            ]
          },
          "metadata": {},
          "execution_count": 103
        }
      ]
    },
    {
      "cell_type": "code",
      "source": [
        "df.describe()"
      ],
      "metadata": {
        "colab": {
          "base_uri": "https://localhost:8080/",
          "height": 300
        },
        "id": "aGc8pPB4wcBG",
        "outputId": "3a71b279-ab14-4a87-e32d-445ba686a674"
      },
      "execution_count": 104,
      "outputs": [
        {
          "output_type": "execute_result",
          "data": {
            "text/plain": [
              "              age        sex          cp    trestbps        chol         fbs  \\\n",
              "count  299.000000  299.00000  299.000000  299.000000  299.000000  299.000000   \n",
              "mean    54.521739    0.67893    3.163880  131.715719  246.785953    0.143813   \n",
              "std      9.030264    0.46767    0.964069   17.747751   52.532582    0.351488   \n",
              "min     29.000000    0.00000    1.000000   94.000000  100.000000    0.000000   \n",
              "25%     48.000000    0.00000    3.000000  120.000000  211.000000    0.000000   \n",
              "50%     56.000000    1.00000    3.000000  130.000000  242.000000    0.000000   \n",
              "75%     61.000000    1.00000    4.000000  140.000000  275.500000    0.000000   \n",
              "max     77.000000    1.00000    4.000000  200.000000  564.000000    1.000000   \n",
              "\n",
              "          restecg     thalach       exang     oldpeak       slope          ca  \\\n",
              "count  299.000000  299.000000  299.000000  299.000000  299.000000  299.000000   \n",
              "mean     0.989967  149.327759    0.331104    1.058528    1.605351    0.672241   \n",
              "std      0.994903   23.121062    0.471399    1.162769    0.616962    0.937438   \n",
              "min      0.000000   71.000000    0.000000    0.000000    1.000000    0.000000   \n",
              "25%      0.000000  132.500000    0.000000    0.000000    1.000000    0.000000   \n",
              "50%      1.000000  152.000000    0.000000    0.800000    2.000000    0.000000   \n",
              "75%      2.000000  165.500000    1.000000    1.600000    2.000000    1.000000   \n",
              "max      2.000000  202.000000    1.000000    6.200000    3.000000    3.000000   \n",
              "\n",
              "             thal      target  \n",
              "count  299.000000  299.000000  \n",
              "mean     4.745819    0.946488  \n",
              "std      1.940977    1.230409  \n",
              "min      3.000000    0.000000  \n",
              "25%      3.000000    0.000000  \n",
              "50%      3.000000    0.000000  \n",
              "75%      7.000000    2.000000  \n",
              "max      7.000000    4.000000  "
            ],
            "text/html": [
              "\n",
              "  <div id=\"df-fac6839a-8f1d-4ca5-a13a-a1097666e600\">\n",
              "    <div class=\"colab-df-container\">\n",
              "      <div>\n",
              "<style scoped>\n",
              "    .dataframe tbody tr th:only-of-type {\n",
              "        vertical-align: middle;\n",
              "    }\n",
              "\n",
              "    .dataframe tbody tr th {\n",
              "        vertical-align: top;\n",
              "    }\n",
              "\n",
              "    .dataframe thead th {\n",
              "        text-align: right;\n",
              "    }\n",
              "</style>\n",
              "<table border=\"1\" class=\"dataframe\">\n",
              "  <thead>\n",
              "    <tr style=\"text-align: right;\">\n",
              "      <th></th>\n",
              "      <th>age</th>\n",
              "      <th>sex</th>\n",
              "      <th>cp</th>\n",
              "      <th>trestbps</th>\n",
              "      <th>chol</th>\n",
              "      <th>fbs</th>\n",
              "      <th>restecg</th>\n",
              "      <th>thalach</th>\n",
              "      <th>exang</th>\n",
              "      <th>oldpeak</th>\n",
              "      <th>slope</th>\n",
              "      <th>ca</th>\n",
              "      <th>thal</th>\n",
              "      <th>target</th>\n",
              "    </tr>\n",
              "  </thead>\n",
              "  <tbody>\n",
              "    <tr>\n",
              "      <th>count</th>\n",
              "      <td>299.000000</td>\n",
              "      <td>299.00000</td>\n",
              "      <td>299.000000</td>\n",
              "      <td>299.000000</td>\n",
              "      <td>299.000000</td>\n",
              "      <td>299.000000</td>\n",
              "      <td>299.000000</td>\n",
              "      <td>299.000000</td>\n",
              "      <td>299.000000</td>\n",
              "      <td>299.000000</td>\n",
              "      <td>299.000000</td>\n",
              "      <td>299.000000</td>\n",
              "      <td>299.000000</td>\n",
              "      <td>299.000000</td>\n",
              "    </tr>\n",
              "    <tr>\n",
              "      <th>mean</th>\n",
              "      <td>54.521739</td>\n",
              "      <td>0.67893</td>\n",
              "      <td>3.163880</td>\n",
              "      <td>131.715719</td>\n",
              "      <td>246.785953</td>\n",
              "      <td>0.143813</td>\n",
              "      <td>0.989967</td>\n",
              "      <td>149.327759</td>\n",
              "      <td>0.331104</td>\n",
              "      <td>1.058528</td>\n",
              "      <td>1.605351</td>\n",
              "      <td>0.672241</td>\n",
              "      <td>4.745819</td>\n",
              "      <td>0.946488</td>\n",
              "    </tr>\n",
              "    <tr>\n",
              "      <th>std</th>\n",
              "      <td>9.030264</td>\n",
              "      <td>0.46767</td>\n",
              "      <td>0.964069</td>\n",
              "      <td>17.747751</td>\n",
              "      <td>52.532582</td>\n",
              "      <td>0.351488</td>\n",
              "      <td>0.994903</td>\n",
              "      <td>23.121062</td>\n",
              "      <td>0.471399</td>\n",
              "      <td>1.162769</td>\n",
              "      <td>0.616962</td>\n",
              "      <td>0.937438</td>\n",
              "      <td>1.940977</td>\n",
              "      <td>1.230409</td>\n",
              "    </tr>\n",
              "    <tr>\n",
              "      <th>min</th>\n",
              "      <td>29.000000</td>\n",
              "      <td>0.00000</td>\n",
              "      <td>1.000000</td>\n",
              "      <td>94.000000</td>\n",
              "      <td>100.000000</td>\n",
              "      <td>0.000000</td>\n",
              "      <td>0.000000</td>\n",
              "      <td>71.000000</td>\n",
              "      <td>0.000000</td>\n",
              "      <td>0.000000</td>\n",
              "      <td>1.000000</td>\n",
              "      <td>0.000000</td>\n",
              "      <td>3.000000</td>\n",
              "      <td>0.000000</td>\n",
              "    </tr>\n",
              "    <tr>\n",
              "      <th>25%</th>\n",
              "      <td>48.000000</td>\n",
              "      <td>0.00000</td>\n",
              "      <td>3.000000</td>\n",
              "      <td>120.000000</td>\n",
              "      <td>211.000000</td>\n",
              "      <td>0.000000</td>\n",
              "      <td>0.000000</td>\n",
              "      <td>132.500000</td>\n",
              "      <td>0.000000</td>\n",
              "      <td>0.000000</td>\n",
              "      <td>1.000000</td>\n",
              "      <td>0.000000</td>\n",
              "      <td>3.000000</td>\n",
              "      <td>0.000000</td>\n",
              "    </tr>\n",
              "    <tr>\n",
              "      <th>50%</th>\n",
              "      <td>56.000000</td>\n",
              "      <td>1.00000</td>\n",
              "      <td>3.000000</td>\n",
              "      <td>130.000000</td>\n",
              "      <td>242.000000</td>\n",
              "      <td>0.000000</td>\n",
              "      <td>1.000000</td>\n",
              "      <td>152.000000</td>\n",
              "      <td>0.000000</td>\n",
              "      <td>0.800000</td>\n",
              "      <td>2.000000</td>\n",
              "      <td>0.000000</td>\n",
              "      <td>3.000000</td>\n",
              "      <td>0.000000</td>\n",
              "    </tr>\n",
              "    <tr>\n",
              "      <th>75%</th>\n",
              "      <td>61.000000</td>\n",
              "      <td>1.00000</td>\n",
              "      <td>4.000000</td>\n",
              "      <td>140.000000</td>\n",
              "      <td>275.500000</td>\n",
              "      <td>0.000000</td>\n",
              "      <td>2.000000</td>\n",
              "      <td>165.500000</td>\n",
              "      <td>1.000000</td>\n",
              "      <td>1.600000</td>\n",
              "      <td>2.000000</td>\n",
              "      <td>1.000000</td>\n",
              "      <td>7.000000</td>\n",
              "      <td>2.000000</td>\n",
              "    </tr>\n",
              "    <tr>\n",
              "      <th>max</th>\n",
              "      <td>77.000000</td>\n",
              "      <td>1.00000</td>\n",
              "      <td>4.000000</td>\n",
              "      <td>200.000000</td>\n",
              "      <td>564.000000</td>\n",
              "      <td>1.000000</td>\n",
              "      <td>2.000000</td>\n",
              "      <td>202.000000</td>\n",
              "      <td>1.000000</td>\n",
              "      <td>6.200000</td>\n",
              "      <td>3.000000</td>\n",
              "      <td>3.000000</td>\n",
              "      <td>7.000000</td>\n",
              "      <td>4.000000</td>\n",
              "    </tr>\n",
              "  </tbody>\n",
              "</table>\n",
              "</div>\n",
              "      <button class=\"colab-df-convert\" onclick=\"convertToInteractive('df-fac6839a-8f1d-4ca5-a13a-a1097666e600')\"\n",
              "              title=\"Convert this dataframe to an interactive table.\"\n",
              "              style=\"display:none;\">\n",
              "        \n",
              "  <svg xmlns=\"http://www.w3.org/2000/svg\" height=\"24px\"viewBox=\"0 0 24 24\"\n",
              "       width=\"24px\">\n",
              "    <path d=\"M0 0h24v24H0V0z\" fill=\"none\"/>\n",
              "    <path d=\"M18.56 5.44l.94 2.06.94-2.06 2.06-.94-2.06-.94-.94-2.06-.94 2.06-2.06.94zm-11 1L8.5 8.5l.94-2.06 2.06-.94-2.06-.94L8.5 2.5l-.94 2.06-2.06.94zm10 10l.94 2.06.94-2.06 2.06-.94-2.06-.94-.94-2.06-.94 2.06-2.06.94z\"/><path d=\"M17.41 7.96l-1.37-1.37c-.4-.4-.92-.59-1.43-.59-.52 0-1.04.2-1.43.59L10.3 9.45l-7.72 7.72c-.78.78-.78 2.05 0 2.83L4 21.41c.39.39.9.59 1.41.59.51 0 1.02-.2 1.41-.59l7.78-7.78 2.81-2.81c.8-.78.8-2.07 0-2.86zM5.41 20L4 18.59l7.72-7.72 1.47 1.35L5.41 20z\"/>\n",
              "  </svg>\n",
              "      </button>\n",
              "      \n",
              "  <style>\n",
              "    .colab-df-container {\n",
              "      display:flex;\n",
              "      flex-wrap:wrap;\n",
              "      gap: 12px;\n",
              "    }\n",
              "\n",
              "    .colab-df-convert {\n",
              "      background-color: #E8F0FE;\n",
              "      border: none;\n",
              "      border-radius: 50%;\n",
              "      cursor: pointer;\n",
              "      display: none;\n",
              "      fill: #1967D2;\n",
              "      height: 32px;\n",
              "      padding: 0 0 0 0;\n",
              "      width: 32px;\n",
              "    }\n",
              "\n",
              "    .colab-df-convert:hover {\n",
              "      background-color: #E2EBFA;\n",
              "      box-shadow: 0px 1px 2px rgba(60, 64, 67, 0.3), 0px 1px 3px 1px rgba(60, 64, 67, 0.15);\n",
              "      fill: #174EA6;\n",
              "    }\n",
              "\n",
              "    [theme=dark] .colab-df-convert {\n",
              "      background-color: #3B4455;\n",
              "      fill: #D2E3FC;\n",
              "    }\n",
              "\n",
              "    [theme=dark] .colab-df-convert:hover {\n",
              "      background-color: #434B5C;\n",
              "      box-shadow: 0px 1px 3px 1px rgba(0, 0, 0, 0.15);\n",
              "      filter: drop-shadow(0px 1px 2px rgba(0, 0, 0, 0.3));\n",
              "      fill: #FFFFFF;\n",
              "    }\n",
              "  </style>\n",
              "\n",
              "      <script>\n",
              "        const buttonEl =\n",
              "          document.querySelector('#df-fac6839a-8f1d-4ca5-a13a-a1097666e600 button.colab-df-convert');\n",
              "        buttonEl.style.display =\n",
              "          google.colab.kernel.accessAllowed ? 'block' : 'none';\n",
              "\n",
              "        async function convertToInteractive(key) {\n",
              "          const element = document.querySelector('#df-fac6839a-8f1d-4ca5-a13a-a1097666e600');\n",
              "          const dataTable =\n",
              "            await google.colab.kernel.invokeFunction('convertToInteractive',\n",
              "                                                     [key], {});\n",
              "          if (!dataTable) return;\n",
              "\n",
              "          const docLinkHtml = 'Like what you see? Visit the ' +\n",
              "            '<a target=\"_blank\" href=https://colab.research.google.com/notebooks/data_table.ipynb>data table notebook</a>'\n",
              "            + ' to learn more about interactive tables.';\n",
              "          element.innerHTML = '';\n",
              "          dataTable['output_type'] = 'display_data';\n",
              "          await google.colab.output.renderOutput(dataTable, element);\n",
              "          const docLink = document.createElement('div');\n",
              "          docLink.innerHTML = docLinkHtml;\n",
              "          element.appendChild(docLink);\n",
              "        }\n",
              "      </script>\n",
              "    </div>\n",
              "  </div>\n",
              "  "
            ]
          },
          "metadata": {},
          "execution_count": 104
        }
      ]
    },
    {
      "cell_type": "code",
      "source": [
        "df['target'].value_counts()"
      ],
      "metadata": {
        "colab": {
          "base_uri": "https://localhost:8080/"
        },
        "id": "dvw8jA-awfJ6",
        "outputId": "9c1a4584-0036-4e31-d49a-b05fd1178e68"
      },
      "execution_count": 105,
      "outputs": [
        {
          "output_type": "execute_result",
          "data": {
            "text/plain": [
              "0    160\n",
              "1     56\n",
              "2     35\n",
              "3     35\n",
              "4     13\n",
              "Name: target, dtype: int64"
            ]
          },
          "metadata": {},
          "execution_count": 105
        }
      ]
    },
    {
      "cell_type": "code",
      "source": [
        "df.dtypes"
      ],
      "metadata": {
        "colab": {
          "base_uri": "https://localhost:8080/"
        },
        "id": "rxGGrC2-wmJS",
        "outputId": "1f37c410-7934-45cc-c83a-7e542fe61b2b"
      },
      "execution_count": 106,
      "outputs": [
        {
          "output_type": "execute_result",
          "data": {
            "text/plain": [
              "age           int64\n",
              "sex           int64\n",
              "cp            int64\n",
              "trestbps      int64\n",
              "chol          int64\n",
              "fbs           int64\n",
              "restecg       int64\n",
              "thalach       int64\n",
              "exang         int64\n",
              "oldpeak     float64\n",
              "slope         int64\n",
              "ca            int64\n",
              "thal          int64\n",
              "target        int64\n",
              "dtype: object"
            ]
          },
          "metadata": {},
          "execution_count": 106
        }
      ]
    },
    {
      "cell_type": "code",
      "source": [
        "df['chol'] = df['chol']/df['chol'].max()\n",
        "df['chol'].head()"
      ],
      "metadata": {
        "colab": {
          "base_uri": "https://localhost:8080/"
        },
        "id": "_WKWpjekwpZS",
        "outputId": "eb63b343-87b6-401c-af6e-e2d8eec6b59a"
      },
      "execution_count": 107,
      "outputs": [
        {
          "output_type": "execute_result",
          "data": {
            "text/plain": [
              "0    0.413121\n",
              "1    0.507092\n",
              "2    0.406028\n",
              "3    0.443262\n",
              "4    0.361702\n",
              "Name: chol, dtype: float64"
            ]
          },
          "metadata": {},
          "execution_count": 107
        }
      ]
    },
    {
      "cell_type": "code",
      "source": [
        "df['trestbps']=df['trestbps']/df['trestbps'].max()\n",
        "df['trestbps'].head()"
      ],
      "metadata": {
        "colab": {
          "base_uri": "https://localhost:8080/"
        },
        "id": "lx8jAXG1wtql",
        "outputId": "c10c4635-4ccb-423d-f8ef-7aed14003e81"
      },
      "execution_count": 108,
      "outputs": [
        {
          "output_type": "execute_result",
          "data": {
            "text/plain": [
              "0    0.725\n",
              "1    0.800\n",
              "2    0.600\n",
              "3    0.650\n",
              "4    0.650\n",
              "Name: trestbps, dtype: float64"
            ]
          },
          "metadata": {},
          "execution_count": 108
        }
      ]
    },
    {
      "cell_type": "code",
      "source": [
        "df['thalach']=df['thalach']/df['thalach'].max()\n",
        "df['thalach'].head()"
      ],
      "metadata": {
        "colab": {
          "base_uri": "https://localhost:8080/"
        },
        "id": "czVL6qtiwvwb",
        "outputId": "472909c5-38be-4cef-e3c2-3d7a0179330a"
      },
      "execution_count": 109,
      "outputs": [
        {
          "output_type": "execute_result",
          "data": {
            "text/plain": [
              "0    0.742574\n",
              "1    0.534653\n",
              "2    0.638614\n",
              "3    0.925743\n",
              "4    0.851485\n",
              "Name: thalach, dtype: float64"
            ]
          },
          "metadata": {},
          "execution_count": 109
        }
      ]
    },
    {
      "cell_type": "code",
      "source": [
        "#only required if the headers are not mentioned\n",
        "#headers = ['age','sex','cp','trestbps','chol','fbs','restecg','thalach','exang','oldpeak','slope','ca','thal','num']\n",
        "#df.columns=headers"
      ],
      "metadata": {
        "id": "QhqfaeLK5MKH"
      },
      "execution_count": 110,
      "outputs": []
    },
    {
      "cell_type": "code",
      "source": [
        "df.head()"
      ],
      "metadata": {
        "colab": {
          "base_uri": "https://localhost:8080/",
          "height": 206
        },
        "id": "xcqjl_1Awzb-",
        "outputId": "e680c801-dffd-4dfd-802b-28b733ea517f"
      },
      "execution_count": 111,
      "outputs": [
        {
          "output_type": "execute_result",
          "data": {
            "text/plain": [
              "   age  sex  cp  trestbps      chol  fbs  restecg   thalach  exang  oldpeak  \\\n",
              "0   63    1   1     0.725  0.413121    1        2  0.742574      0      2.3   \n",
              "1   67    1   4     0.800  0.507092    0        2  0.534653      1      1.5   \n",
              "2   67    1   4     0.600  0.406028    0        2  0.638614      1      2.6   \n",
              "3   37    1   3     0.650  0.443262    0        0  0.925743      0      3.5   \n",
              "4   41    0   2     0.650  0.361702    0        2  0.851485      0      1.4   \n",
              "\n",
              "   slope  ca  thal  target  \n",
              "0      3   0     6       0  \n",
              "1      2   3     3       2  \n",
              "2      2   2     7       1  \n",
              "3      3   0     3       0  \n",
              "4      1   0     3       0  "
            ],
            "text/html": [
              "\n",
              "  <div id=\"df-b1b7fba2-28a7-4d3d-81ef-3d42b7d0c871\">\n",
              "    <div class=\"colab-df-container\">\n",
              "      <div>\n",
              "<style scoped>\n",
              "    .dataframe tbody tr th:only-of-type {\n",
              "        vertical-align: middle;\n",
              "    }\n",
              "\n",
              "    .dataframe tbody tr th {\n",
              "        vertical-align: top;\n",
              "    }\n",
              "\n",
              "    .dataframe thead th {\n",
              "        text-align: right;\n",
              "    }\n",
              "</style>\n",
              "<table border=\"1\" class=\"dataframe\">\n",
              "  <thead>\n",
              "    <tr style=\"text-align: right;\">\n",
              "      <th></th>\n",
              "      <th>age</th>\n",
              "      <th>sex</th>\n",
              "      <th>cp</th>\n",
              "      <th>trestbps</th>\n",
              "      <th>chol</th>\n",
              "      <th>fbs</th>\n",
              "      <th>restecg</th>\n",
              "      <th>thalach</th>\n",
              "      <th>exang</th>\n",
              "      <th>oldpeak</th>\n",
              "      <th>slope</th>\n",
              "      <th>ca</th>\n",
              "      <th>thal</th>\n",
              "      <th>target</th>\n",
              "    </tr>\n",
              "  </thead>\n",
              "  <tbody>\n",
              "    <tr>\n",
              "      <th>0</th>\n",
              "      <td>63</td>\n",
              "      <td>1</td>\n",
              "      <td>1</td>\n",
              "      <td>0.725</td>\n",
              "      <td>0.413121</td>\n",
              "      <td>1</td>\n",
              "      <td>2</td>\n",
              "      <td>0.742574</td>\n",
              "      <td>0</td>\n",
              "      <td>2.3</td>\n",
              "      <td>3</td>\n",
              "      <td>0</td>\n",
              "      <td>6</td>\n",
              "      <td>0</td>\n",
              "    </tr>\n",
              "    <tr>\n",
              "      <th>1</th>\n",
              "      <td>67</td>\n",
              "      <td>1</td>\n",
              "      <td>4</td>\n",
              "      <td>0.800</td>\n",
              "      <td>0.507092</td>\n",
              "      <td>0</td>\n",
              "      <td>2</td>\n",
              "      <td>0.534653</td>\n",
              "      <td>1</td>\n",
              "      <td>1.5</td>\n",
              "      <td>2</td>\n",
              "      <td>3</td>\n",
              "      <td>3</td>\n",
              "      <td>2</td>\n",
              "    </tr>\n",
              "    <tr>\n",
              "      <th>2</th>\n",
              "      <td>67</td>\n",
              "      <td>1</td>\n",
              "      <td>4</td>\n",
              "      <td>0.600</td>\n",
              "      <td>0.406028</td>\n",
              "      <td>0</td>\n",
              "      <td>2</td>\n",
              "      <td>0.638614</td>\n",
              "      <td>1</td>\n",
              "      <td>2.6</td>\n",
              "      <td>2</td>\n",
              "      <td>2</td>\n",
              "      <td>7</td>\n",
              "      <td>1</td>\n",
              "    </tr>\n",
              "    <tr>\n",
              "      <th>3</th>\n",
              "      <td>37</td>\n",
              "      <td>1</td>\n",
              "      <td>3</td>\n",
              "      <td>0.650</td>\n",
              "      <td>0.443262</td>\n",
              "      <td>0</td>\n",
              "      <td>0</td>\n",
              "      <td>0.925743</td>\n",
              "      <td>0</td>\n",
              "      <td>3.5</td>\n",
              "      <td>3</td>\n",
              "      <td>0</td>\n",
              "      <td>3</td>\n",
              "      <td>0</td>\n",
              "    </tr>\n",
              "    <tr>\n",
              "      <th>4</th>\n",
              "      <td>41</td>\n",
              "      <td>0</td>\n",
              "      <td>2</td>\n",
              "      <td>0.650</td>\n",
              "      <td>0.361702</td>\n",
              "      <td>0</td>\n",
              "      <td>2</td>\n",
              "      <td>0.851485</td>\n",
              "      <td>0</td>\n",
              "      <td>1.4</td>\n",
              "      <td>1</td>\n",
              "      <td>0</td>\n",
              "      <td>3</td>\n",
              "      <td>0</td>\n",
              "    </tr>\n",
              "  </tbody>\n",
              "</table>\n",
              "</div>\n",
              "      <button class=\"colab-df-convert\" onclick=\"convertToInteractive('df-b1b7fba2-28a7-4d3d-81ef-3d42b7d0c871')\"\n",
              "              title=\"Convert this dataframe to an interactive table.\"\n",
              "              style=\"display:none;\">\n",
              "        \n",
              "  <svg xmlns=\"http://www.w3.org/2000/svg\" height=\"24px\"viewBox=\"0 0 24 24\"\n",
              "       width=\"24px\">\n",
              "    <path d=\"M0 0h24v24H0V0z\" fill=\"none\"/>\n",
              "    <path d=\"M18.56 5.44l.94 2.06.94-2.06 2.06-.94-2.06-.94-.94-2.06-.94 2.06-2.06.94zm-11 1L8.5 8.5l.94-2.06 2.06-.94-2.06-.94L8.5 2.5l-.94 2.06-2.06.94zm10 10l.94 2.06.94-2.06 2.06-.94-2.06-.94-.94-2.06-.94 2.06-2.06.94z\"/><path d=\"M17.41 7.96l-1.37-1.37c-.4-.4-.92-.59-1.43-.59-.52 0-1.04.2-1.43.59L10.3 9.45l-7.72 7.72c-.78.78-.78 2.05 0 2.83L4 21.41c.39.39.9.59 1.41.59.51 0 1.02-.2 1.41-.59l7.78-7.78 2.81-2.81c.8-.78.8-2.07 0-2.86zM5.41 20L4 18.59l7.72-7.72 1.47 1.35L5.41 20z\"/>\n",
              "  </svg>\n",
              "      </button>\n",
              "      \n",
              "  <style>\n",
              "    .colab-df-container {\n",
              "      display:flex;\n",
              "      flex-wrap:wrap;\n",
              "      gap: 12px;\n",
              "    }\n",
              "\n",
              "    .colab-df-convert {\n",
              "      background-color: #E8F0FE;\n",
              "      border: none;\n",
              "      border-radius: 50%;\n",
              "      cursor: pointer;\n",
              "      display: none;\n",
              "      fill: #1967D2;\n",
              "      height: 32px;\n",
              "      padding: 0 0 0 0;\n",
              "      width: 32px;\n",
              "    }\n",
              "\n",
              "    .colab-df-convert:hover {\n",
              "      background-color: #E2EBFA;\n",
              "      box-shadow: 0px 1px 2px rgba(60, 64, 67, 0.3), 0px 1px 3px 1px rgba(60, 64, 67, 0.15);\n",
              "      fill: #174EA6;\n",
              "    }\n",
              "\n",
              "    [theme=dark] .colab-df-convert {\n",
              "      background-color: #3B4455;\n",
              "      fill: #D2E3FC;\n",
              "    }\n",
              "\n",
              "    [theme=dark] .colab-df-convert:hover {\n",
              "      background-color: #434B5C;\n",
              "      box-shadow: 0px 1px 3px 1px rgba(0, 0, 0, 0.15);\n",
              "      filter: drop-shadow(0px 1px 2px rgba(0, 0, 0, 0.3));\n",
              "      fill: #FFFFFF;\n",
              "    }\n",
              "  </style>\n",
              "\n",
              "      <script>\n",
              "        const buttonEl =\n",
              "          document.querySelector('#df-b1b7fba2-28a7-4d3d-81ef-3d42b7d0c871 button.colab-df-convert');\n",
              "        buttonEl.style.display =\n",
              "          google.colab.kernel.accessAllowed ? 'block' : 'none';\n",
              "\n",
              "        async function convertToInteractive(key) {\n",
              "          const element = document.querySelector('#df-b1b7fba2-28a7-4d3d-81ef-3d42b7d0c871');\n",
              "          const dataTable =\n",
              "            await google.colab.kernel.invokeFunction('convertToInteractive',\n",
              "                                                     [key], {});\n",
              "          if (!dataTable) return;\n",
              "\n",
              "          const docLinkHtml = 'Like what you see? Visit the ' +\n",
              "            '<a target=\"_blank\" href=https://colab.research.google.com/notebooks/data_table.ipynb>data table notebook</a>'\n",
              "            + ' to learn more about interactive tables.';\n",
              "          element.innerHTML = '';\n",
              "          dataTable['output_type'] = 'display_data';\n",
              "          await google.colab.output.renderOutput(dataTable, element);\n",
              "          const docLink = document.createElement('div');\n",
              "          docLink.innerHTML = docLinkHtml;\n",
              "          element.appendChild(docLink);\n",
              "        }\n",
              "      </script>\n",
              "    </div>\n",
              "  </div>\n",
              "  "
            ]
          },
          "metadata": {},
          "execution_count": 111
        }
      ]
    },
    {
      "cell_type": "code",
      "source": [
        "df[[\"age\"]] = df[[\"age\"]].astype(\"int64\")"
      ],
      "metadata": {
        "id": "cboptbRHw1hm"
      },
      "execution_count": 112,
      "outputs": []
    },
    {
      "cell_type": "code",
      "source": [
        "df.age.plot(kind = 'hist', bins = 100, figsize = (12,12))\n",
        "plt.show()"
      ],
      "metadata": {
        "colab": {
          "base_uri": "https://localhost:8080/",
          "height": 700
        },
        "id": "KSAeCLYWw3ib",
        "outputId": "86dab394-042d-4481-ac33-fcc231402787"
      },
      "execution_count": 113,
      "outputs": [
        {
          "output_type": "display_data",
          "data": {
            "text/plain": [
              "<Figure size 864x864 with 1 Axes>"
            ],
            "image/png": "[encoded data removed]"
          },
          "metadata": {
            "needs_background": "light"
          }
        }
      ]
    },
    {
      "cell_type": "code",
      "source": [
        "#Distribution of class label\n",
        "# 0 - Absent / no Disease  1,2,3,4 - Presence/yes\n",
        "sn.countplot(df['target'], palette = 'pastel')"
      ],
      "metadata": {
        "colab": {
          "base_uri": "https://localhost:8080/",
          "height": 623
        },
        "id": "AwErfK29w6dG",
        "outputId": "f267bb44-ae2a-43a3-a4e5-c5cda8be2e5e"
      },
      "execution_count": 114,
      "outputs": [
        {
          "output_type": "stream",
          "name": "stderr",
          "text": [
            "/usr/local/lib/python3.7/dist-packages/seaborn/_decorators.py:43: FutureWarning: Pass the following variable as a keyword arg: x. From version 0.12, the only valid positional argument will be `data`, and passing other arguments without an explicit keyword will result in an error or misinterpretation.\n",
            "  FutureWarning\n"
          ]
        },
        {
          "output_type": "execute_result",
          "data": {
            "text/plain": [
              "<matplotlib.axes._subplots.AxesSubplot at 0x7f21586d6f10>"
            ]
          },
          "metadata": {},
          "execution_count": 114
        },
        {
          "output_type": "display_data",
          "data": {
            "text/plain": [
              "<Figure size 648x648 with 1 Axes>"
            ],
            "image/png": "[encoded data removed]"
          },
          "metadata": {
            "needs_background": "light"
          }
        }
      ]
    },
    {
      "cell_type": "code",
      "source": [
        "df['sex'].value_counts()"
      ],
      "metadata": {
        "colab": {
          "base_uri": "https://localhost:8080/"
        },
        "id": "vMpRs-9ow-EK",
        "outputId": "e3bc62b4-7bed-4a31-a292-13df736c7262"
      },
      "execution_count": 115,
      "outputs": [
        {
          "output_type": "execute_result",
          "data": {
            "text/plain": [
              "1    203\n",
              "0     96\n",
              "Name: sex, dtype: int64"
            ]
          },
          "metadata": {},
          "execution_count": 115
        }
      ]
    },
    {
      "cell_type": "code",
      "source": [
        "size = [205, 97]\n",
        "colors = ['blue', 'pink']\n",
        "labels = \"Male\", \"Female\"\n",
        "explode = [0, 0.01]\n",
        "\n",
        "my_circle = plt.Circle((0, 0), 0.4, color = 'white')\n",
        "\n",
        "plt.rcParams['figure.figsize'] = (9, 9)\n",
        "plt.pie(size, colors = colors, labels = labels, shadow = True, explode = explode, autopct = '%.2f%%')\n",
        "plt.title('Distribution of Gender', fontsize = 20)\n",
        "p = plt.gcf()\n",
        "p.gca().add_artist(my_circle)\n",
        "plt.legend()\n",
        "plt.show()"
      ],
      "metadata": {
        "colab": {
          "base_uri": "https://localhost:8080/",
          "height": 541
        },
        "id": "rk5bb5yBxBFL",
        "outputId": "b1eb5dc8-50e0-4e27-8182-ff87760d1c86"
      },
      "execution_count": 116,
      "outputs": [
        {
          "output_type": "display_data",
          "data": {
            "text/plain": [
              "<Figure size 648x648 with 1 Axes>"
            ],
            "image/png": "[encoded data removed]"
          },
          "metadata": {}
        }
      ]
    },
    {
      "cell_type": "code",
      "source": [
        "#To use scikit-learn library, we have to convert the Pandas data frame to a Numpy array:\n",
        "X=df.iloc[:, :-1].values\n",
        "X"
      ],
      "metadata": {
        "colab": {
          "base_uri": "https://localhost:8080/"
        },
        "id": "IY5x7PQrxETh",
        "outputId": "ad8fe23c-7010-4486-f789-8d64af1f0093"
      },
      "execution_count": 117,
      "outputs": [
        {
          "output_type": "execute_result",
          "data": {
            "text/plain": [
              "array([[63.,  1.,  1., ...,  3.,  0.,  6.],\n",
              "       [67.,  1.,  4., ...,  2.,  3.,  3.],\n",
              "       [67.,  1.,  4., ...,  2.,  2.,  7.],\n",
              "       ...,\n",
              "       [57.,  0.,  2., ...,  2.,  1.,  3.],\n",
              "       [47.,  1.,  4., ...,  2.,  0.,  7.],\n",
              "       [56.,  1.,  4., ...,  2.,  0.,  7.]])"
            ]
          },
          "metadata": {},
          "execution_count": 117
        }
      ]
    },
    {
      "cell_type": "code",
      "source": [
        "y = df.iloc[:,13]\n",
        "y"
      ],
      "metadata": {
        "colab": {
          "base_uri": "https://localhost:8080/"
        },
        "id": "K_KZ_bOkxIhd",
        "outputId": "3f6acc3f-a976-4595-cbb8-45ed412ff080"
      },
      "execution_count": 118,
      "outputs": [
        {
          "output_type": "execute_result",
          "data": {
            "text/plain": [
              "0      0\n",
              "1      2\n",
              "2      1\n",
              "3      0\n",
              "4      0\n",
              "      ..\n",
              "294    2\n",
              "295    3\n",
              "296    1\n",
              "297    1\n",
              "298    1\n",
              "Name: target, Length: 299, dtype: int64"
            ]
          },
          "metadata": {},
          "execution_count": 118
        }
      ]
    },
    {
      "cell_type": "code",
      "source": [
        "#Splitting the dataset into Train and Test\n",
        "from sklearn.model_selection import train_test_split\n",
        "X_train, X_test, y_train, y_test = train_test_split( X, y, test_size=0.2, random_state=0)"
      ],
      "metadata": {
        "id": "DUZQHM3uxLO1"
      },
      "execution_count": 119,
      "outputs": []
    },
    {
      "cell_type": "code",
      "source": [
        "# scaling the dataset\n",
        "sc_X=StandardScaler()\n",
        "X_train=sc_X.fit_transform(X_train)\n",
        "X_test=sc_X.transform(X_test)"
      ],
      "metadata": {
        "id": "U4HUK4q9xOvC"
      },
      "execution_count": 120,
      "outputs": []
    },
    {
      "cell_type": "code",
      "source": [
        "X_train"
      ],
      "metadata": {
        "colab": {
          "base_uri": "https://localhost:8080/"
        },
        "id": "bwB0R0K7xRtd",
        "outputId": "02e8c02c-0abf-44c3-999a-4e1153e8090c"
      },
      "execution_count": 121,
      "outputs": [
        {
          "output_type": "execute_result",
          "data": {
            "text/plain": [
              "array([[ 0.06877439, -1.43669849, -1.16640664, ...,  0.66767034,\n",
              "        -0.72106735, -0.91715397],\n",
              "       [ 0.29089709,  0.69604026,  0.86102017, ...,  0.66767034,\n",
              "         2.41229804,  1.1410601 ],\n",
              "       [-0.04228696, -1.43669849, -0.15269323, ..., -0.94418028,\n",
              "        -0.72106735, -0.91715397],\n",
              "       ...,\n",
              "       [ 0.95726519,  0.69604026,  0.86102017, ..., -0.94418028,\n",
              "         2.41229804,  1.1410601 ],\n",
              "       [-0.48653236,  0.69604026,  0.86102017, ...,  0.66767034,\n",
              "        -0.72106735,  1.1410601 ],\n",
              "       [ 1.06832654,  0.69604026,  0.86102017, ...,  0.66767034,\n",
              "         1.36784291,  0.62650658]])"
            ]
          },
          "metadata": {},
          "execution_count": 121
        }
      ]
    },
    {
      "cell_type": "code",
      "source": [
        "X_test"
      ],
      "metadata": {
        "colab": {
          "base_uri": "https://localhost:8080/"
        },
        "id": "1G8Na4aXxVSK",
        "outputId": "7c32fe1e-f1d9-4177-983b-354b9a0028a6"
      },
      "execution_count": 122,
      "outputs": [
        {
          "output_type": "execute_result",
          "data": {
            "text/plain": [
              "array([[ 8.46203844e-01, -1.43669849e+00,  8.61020172e-01,\n",
              "         9.83643230e-01, -9.76804336e-02, -4.21117444e-01,\n",
              "        -9.89633793e-01,  1.55467254e-01,  1.39664501e+00,\n",
              "         3.34394983e-01,  6.67670338e-01, -7.21067350e-01,\n",
              "        -9.17153967e-01],\n",
              "       [-4.86532358e-01,  6.96040264e-01, -1.52693233e-01,\n",
              "        -1.84025968e-01, -1.00138199e+00, -4.21117444e-01,\n",
              "        -9.89633793e-01,  5.61797827e-01, -7.16001556e-01,\n",
              "        -9.10194130e-01, -9.44180276e-01, -7.21067350e-01,\n",
              "        -9.17153967e-01],\n",
              "       [ 1.79835743e-01,  6.96040264e-01, -1.52693233e-01,\n",
              "        -1.28422673e-01,  1.28244956e-01,  2.37463447e+00,\n",
              "         1.02332345e+00, -3.86306845e-01,  1.39664501e+00,\n",
              "        -3.76798796e-01,  6.67670338e-01,  3.23387781e-01,\n",
              "         6.26506583e-01],\n",
              "       [-1.70820721e+00, -1.43669849e+00, -1.52693233e-01,\n",
              "        -2.13014130e+00, -9.44900646e-01, -4.21117444e-01,\n",
              "        -9.89633793e-01,  1.28416329e+00, -7.16001556e-01,\n",
              "        -9.10194130e-01, -9.44180276e-01, -7.21067350e-01,\n",
              "        -9.17153967e-01],\n",
              "       [-1.48608451e+00,  6.96040264e-01, -1.16640664e+00,\n",
              "        -1.24048858e+00, -2.67124476e-01, -4.21117444e-01,\n",
              "        -9.89633793e-01,  1.10319412e-01, -7.16001556e-01,\n",
              "        -9.10194130e-01, -9.44180276e-01, -7.21067350e-01,\n",
              "        -9.17153967e-01],\n",
              "       [ 8.46203844e-01,  6.96040264e-01, -1.16640664e+00,\n",
              "        -6.84455625e-01,  5.98922852e-01, -4.21117444e-01,\n",
              "         1.02332345e+00, -2.14707267e+00, -7.16001556e-01,\n",
              "         3.34394983e-01,  6.67670338e-01,  3.23387781e-01,\n",
              "         1.14106010e+00],\n",
              "       [ 6.87743926e-02, -1.43669849e+00,  8.61020172e-01,\n",
              "         2.65174208e+00,  1.46497018e+00, -4.21117444e-01,\n",
              "         1.68448305e-02, -1.51500288e+00,  1.39664501e+00,\n",
              "         2.11237943e+00,  6.67670338e-01, -7.21067350e-01,\n",
              "        -9.17153967e-01],\n",
              "       [ 6.87743926e-02,  6.96040264e-01, -1.16640664e+00,\n",
              "        -1.28422673e-01,  2.41207651e-01, -4.21117444e-01,\n",
              "        -9.89633793e-01,  2.00615095e-01, -7.16001556e-01,\n",
              "        -9.10194130e-01, -9.44180276e-01, -7.21067350e-01,\n",
              "        -9.17153967e-01],\n",
              "       [-1.15290046e+00,  6.96040264e-01,  8.61020172e-01,\n",
              "        -1.12928199e+00,  7.68366894e-01, -4.21117444e-01,\n",
              "         1.02332345e+00,  1.10319412e-01, -7.16001556e-01,\n",
              "        -9.10194130e-01, -9.44180276e-01,  3.23387781e-01,\n",
              "        -9.17153967e-01],\n",
              "       [-1.70820721e+00,  6.96040264e-01,  8.61020172e-01,\n",
              "        -7.95662215e-01, -5.68358329e-01, -4.21117444e-01,\n",
              "        -9.89633793e-01, -4.76602528e-01, -7.16001556e-01,\n",
              "         1.56596538e-01,  6.67670338e-01, -7.21067350e-01,\n",
              "         1.14106010e+00],\n",
              "       [ 7.35142493e-01,  6.96040264e-01, -2.18012004e+00,\n",
              "         9.39905073e-02, -2.85951592e-01, -4.21117444e-01,\n",
              "        -9.89633793e-01, -2.50863320e-01, -7.16001556e-01,\n",
              "         1.40118565e+00,  6.67670338e-01,  1.36784291e+00,\n",
              "        -9.17153967e-01],\n",
              "       [ 2.90897093e-01,  6.96040264e-01, -1.52693233e-01,\n",
              "         9.83643230e-01, -1.52854124e+00, -4.21117444e-01,\n",
              "        -9.89633793e-01,  1.05842408e+00, -7.16001556e-01,\n",
              "         5.12193428e-01, -9.44180276e-01, -7.21067350e-01,\n",
              "        -9.17153967e-01],\n",
              "       [-1.37502316e+00,  6.96040264e-01, -1.52693233e-01,\n",
              "        -6.84455625e-01, -1.72988897e-01,  2.37463447e+00,\n",
              "        -9.89633793e-01,  1.96138092e+00, -7.16001556e-01,\n",
              "        -1.99000351e-01,  2.27952095e+00, -7.21067350e-01,\n",
              "         1.14106010e+00],\n",
              "       [ 8.46203844e-01,  6.96040264e-01, -1.16640664e+00,\n",
              "        -2.39629264e-01, -7.75456603e-01,  2.37463447e+00,\n",
              "         1.02332345e+00, -4.76602528e-01, -7.16001556e-01,\n",
              "        -9.10194130e-01, -9.44180276e-01, -7.21067350e-01,\n",
              "        -9.17153967e-01],\n",
              "       [ 4.01958443e-01,  6.96040264e-01, -1.16640664e+00,\n",
              "        -6.84455625e-01,  6.55404199e-01, -4.21117444e-01,\n",
              "         1.02332345e+00,  4.26354303e-01, -7.16001556e-01,\n",
              "         6.89991872e-01,  6.67670338e-01, -7.21067350e-01,\n",
              "        -9.17153967e-01],\n",
              "       [-1.15290046e+00,  6.96040264e-01,  8.61020172e-01,\n",
              "        -1.24048858e+00, -9.82554877e-01, -4.21117444e-01,\n",
              "         1.02332345e+00,  1.19386761e+00, -7.16001556e-01,\n",
              "        -9.10194130e-01, -9.44180276e-01,  3.23387781e-01,\n",
              "        -9.17153967e-01],\n",
              "       [ 1.84575599e+00, -1.43669849e+00,  8.61020172e-01,\n",
              "        -1.12928199e+00, -1.88625644e+00, -4.21117444e-01,\n",
              "        -9.89633793e-01, -1.15382015e+00, -7.16001556e-01,\n",
              "         5.12193428e-01,  6.67670338e-01, -7.21067350e-01,\n",
              "        -9.17153967e-01],\n",
              "       [ 8.46203844e-01, -1.43669849e+00,  8.61020172e-01,\n",
              "         1.53967618e+00, -1.60384970e+00, -4.21117444e-01,\n",
              "         1.02332345e+00, -2.50863320e-01, -7.16001556e-01,\n",
              "         4.60155766e+00,  2.27952095e+00,  2.41229804e+00,\n",
              "         1.14106010e+00],\n",
              "       [-2.64409658e-01, -1.43669849e+00, -1.52693233e-01,\n",
              "         2.05197098e-01, -1.00138199e+00, -4.21117444e-01,\n",
              "         1.02332345e+00,  8.32684877e-01, -7.16001556e-01,\n",
              "        -8.21294908e-01,  6.67670338e-01, -7.21067350e-01,\n",
              "        -9.17153967e-01],\n",
              "       [ 1.73469464e+00,  6.96040264e-01, -1.16640664e+00,\n",
              "         1.31726300e+00, -7.88533177e-02, -4.21117444e-01,\n",
              "         1.02332345e+00, -3.41159003e-01, -7.16001556e-01,\n",
              "        -9.10194130e-01, -9.44180276e-01, -7.21067350e-01,\n",
              "        -9.17153967e-01],\n",
              "       [ 8.46203844e-01, -1.43669849e+00,  8.61020172e-01,\n",
              "         3.16403688e-01,  8.43675358e-01,  2.37463447e+00,\n",
              "        -9.89633793e-01, -2.01162914e+00, -7.16001556e-01,\n",
              "         7.78891095e-01,  6.67670338e-01,  2.41229804e+00,\n",
              "        -9.17153967e-01],\n",
              "       [-5.97593708e-01,  6.96040264e-01, -1.52693233e-01,\n",
              "        -6.84455625e-01, -1.15199892e+00, -4.21117444e-01,\n",
              "        -9.89633793e-01, -5.21750370e-01, -7.16001556e-01,\n",
              "         8.67790317e-01,  6.67670338e-01,  2.41229804e+00,\n",
              "         1.14106010e+00],\n",
              "       [-1.04183911e+00, -1.43669849e+00, -1.16640664e+00,\n",
              "        -1.28422673e-01, -2.85951592e-01, -4.21117444e-01,\n",
              "         1.02332345e+00,  1.10357193e+00, -7.16001556e-01,\n",
              "        -3.76798796e-01,  6.67670338e-01, -7.21067350e-01,\n",
              "        -9.17153967e-01],\n",
              "       [-4.22869576e-02,  6.96040264e-01, -1.52693233e-01,\n",
              "        -6.84455625e-01,  1.65899188e-01, -4.21117444e-01,\n",
              "         1.02332345e+00, -1.60567637e-01, -7.16001556e-01,\n",
              "        -5.54597241e-01,  6.67670338e-01, -7.21067350e-01,\n",
              "         1.14106010e+00],\n",
              "       [-1.53348308e-01,  6.96040264e-01,  8.61020172e-01,\n",
              "        -5.17645739e-01,  6.17749968e-01, -4.21117444e-01,\n",
              "        -9.89633793e-01, -2.50825540e+00,  1.39664501e+00,\n",
              "         8.67790317e-01,  6.67670338e-01,  1.36784291e+00,\n",
              "         1.14106010e+00],\n",
              "       [-2.15245261e+00, -1.43669849e+00,  8.61020172e-01,\n",
              "         3.16403688e-01, -1.24613450e+00, -4.21117444e-01,\n",
              "        -9.89633793e-01,  1.41960682e+00, -7.16001556e-01,\n",
              "         3.34394983e-01, -9.44180276e-01, -7.21067350e-01,\n",
              "        -9.17153967e-01],\n",
              "       [-1.04183911e+00, -1.43669849e+00,  8.61020172e-01,\n",
              "         3.16403688e-01, -2.48297360e-01, -4.21117444e-01,\n",
              "         1.02332345e+00,  6.51715704e-02,  1.39664501e+00,\n",
              "        -7.32395686e-01,  6.67670338e-01, -7.21067350e-01,\n",
              "        -9.17153967e-01],\n",
              "       [ 1.40151059e+00,  6.96040264e-01, -1.52693233e-01,\n",
              "         1.09484982e+00, -7.00148140e-01, -4.21117444e-01,\n",
              "         1.02332345e+00, -2.51241127e-02, -7.16001556e-01,\n",
              "        -1.99000351e-01,  6.67670338e-01, -7.21067350e-01,\n",
              "         1.14106010e+00],\n",
              "       [ 1.51257194e+00,  6.96040264e-01,  8.61020172e-01,\n",
              "         6.50023459e-01, -1.05786334e+00,  2.37463447e+00,\n",
              "        -9.89633793e-01, -4.31454687e-01, -7.16001556e-01,\n",
              "         2.11237943e+00,  6.67670338e-01,  1.36784291e+00,\n",
              "         1.14106010e+00],\n",
              "       [ 1.06832654e+00,  6.96040264e-01,  8.61020172e-01,\n",
              "        -2.39629264e-01,  2.60034767e-01, -4.21117444e-01,\n",
              "        -9.89633793e-01, -2.05677698e+00,  1.39664501e+00,\n",
              "        -7.32395686e-01,  6.67670338e-01,  3.23387781e-01,\n",
              "         1.14106010e+00],\n",
              "       [-1.15290046e+00, -1.43669849e+00, -1.52693233e-01,\n",
              "        -1.35169517e+00, -2.03687336e+00, -4.21117444e-01,\n",
              "        -9.89633793e-01,  1.10357193e+00, -7.16001556e-01,\n",
              "        -3.76798796e-01,  6.67670338e-01, -7.21067350e-01,\n",
              "        -9.17153967e-01],\n",
              "       [ 6.24081143e-01,  6.96040264e-01, -1.52693233e-01,\n",
              "         4.27610278e-01, -1.20848027e+00, -4.21117444e-01,\n",
              "         1.02332345e+00,  2.00615095e-01, -7.16001556e-01,\n",
              "         1.75678254e+00,  6.67670338e-01, -7.21067350e-01,\n",
              "        -9.17153967e-01],\n",
              "       [ 9.57265194e-01,  6.96040264e-01,  8.61020172e-01,\n",
              "        -1.28422673e-01,  9.05907247e-02, -4.21117444e-01,\n",
              "         1.02332345e+00, -1.60567637e-01, -7.16001556e-01,\n",
              "         3.34394983e-01,  6.67670338e-01,  3.23387781e-01,\n",
              "         1.14106010e+00],\n",
              "       [ 6.87743926e-02,  6.96040264e-01,  8.61020172e-01,\n",
              "         4.27610278e-01, -6.06012561e-01, -4.21117444e-01,\n",
              "        -9.89633793e-01, -1.78588993e+00,  1.39664501e+00,\n",
              "         4.06816232e+00,  2.27952095e+00, -7.21067350e-01,\n",
              "         1.14106010e+00],\n",
              "       [-1.48608451e+00, -1.43669849e+00, -1.52693233e-01,\n",
              "        -1.12928199e+00,  3.54170346e-01, -4.21117444e-01,\n",
              "         1.02332345e+00,  9.68128401e-01,  1.39664501e+00,\n",
              "        -9.10194130e-01, -9.44180276e-01, -7.21067350e-01,\n",
              "        -9.17153967e-01],\n",
              "       [-1.37502316e+00, -1.43669849e+00,  8.61020172e-01,\n",
              "        -1.68531494e+00,  2.97688999e-01, -4.21117444e-01,\n",
              "         1.02332345e+00, -1.28926368e+00, -7.16001556e-01,\n",
              "        -3.76798796e-01,  6.67670338e-01, -7.21067350e-01,\n",
              "        -9.17153967e-01],\n",
              "       [-1.26396181e+00,  6.96040264e-01, -1.52693233e-01,\n",
              "        -1.28422673e-01,  1.23904479e+00, -4.21117444e-01,\n",
              "        -9.89633793e-01,  5.16649986e-01, -7.16001556e-01,\n",
              "         7.78891095e-01, -9.44180276e-01,  3.23387781e-01,\n",
              "        -9.17153967e-01],\n",
              "       [ 6.24081143e-01, -1.43669849e+00,  8.61020172e-01,\n",
              "         1.42846959e+00,  1.05077363e+00, -4.21117444e-01,\n",
              "         1.02332345e+00,  4.71502144e-01, -7.16001556e-01,\n",
              "        -9.10194130e-01, -9.44180276e-01, -7.21067350e-01,\n",
              "        -9.17153967e-01],\n",
              "       [ 1.79835743e-01,  6.96040264e-01,  8.61020172e-01,\n",
              "        -6.84455625e-01, -2.80878511e+00, -4.21117444e-01,\n",
              "        -9.89633793e-01, -1.37955936e+00,  1.39664501e+00,\n",
              "         4.23294205e-01,  6.67670338e-01, -7.21067350e-01,\n",
              "         1.14106010e+00],\n",
              "       [ 1.79835743e-01,  6.96040264e-01, -1.16640664e+00,\n",
              "        -6.84455625e-01, -2.48297360e-01, -4.21117444e-01,\n",
              "        -9.89633793e-01,  1.23901545e+00, -7.16001556e-01,\n",
              "        -1.99000351e-01, -9.44180276e-01, -7.21067350e-01,\n",
              "        -9.17153967e-01],\n",
              "       [ 5.13019793e-01,  6.96040264e-01, -1.52693233e-01,\n",
              "        -3.50835854e-01, -5.87185445e-01,  2.37463447e+00,\n",
              "        -9.89633793e-01, -7.47489577e-01, -7.16001556e-01,\n",
              "         1.04558876e+00,  6.67670338e-01,  3.23387781e-01,\n",
              "         6.26506583e-01],\n",
              "       [ 1.29044924e+00,  6.96040264e-01,  8.61020172e-01,\n",
              "        -6.84455625e-01,  9.94292284e-01, -4.21117444e-01,\n",
              "         1.02332345e+00,  2.00237289e-02, -7.16001556e-01,\n",
              "        -5.54597241e-01,  6.67670338e-01, -7.21067350e-01,\n",
              "        -9.17153967e-01],\n",
              "       [-1.53348308e-01, -1.43669849e+00,  8.61020172e-01,\n",
              "        -1.28422673e-01,  2.78861883e-01, -4.21117444e-01,\n",
              "         1.02332345e+00, -3.41159003e-01, -7.16001556e-01,\n",
              "        -5.54597241e-01,  6.67670338e-01, -7.21067350e-01,\n",
              "        -9.17153967e-01],\n",
              "       [-1.15290046e+00,  6.96040264e-01, -1.52693233e-01,\n",
              "        -1.28422673e-01, -3.04778708e-01, -4.21117444e-01,\n",
              "        -9.89633793e-01,  1.28416329e+00,  1.39664501e+00,\n",
              "        -5.54597241e-01, -9.44180276e-01, -7.21067350e-01,\n",
              "        -9.17153967e-01],\n",
              "       [-4.22869576e-02,  6.96040264e-01,  8.61020172e-01,\n",
              "        -4.62042444e-01,  3.16516115e-01, -4.21117444e-01,\n",
              "         1.02332345e+00, -1.87618562e+00,  1.39664501e+00,\n",
              "         1.04558876e+00,  6.67670338e-01,  3.23387781e-01,\n",
              "         1.14106010e+00],\n",
              "       [ 5.13019793e-01,  6.96040264e-01, -1.16640664e+00,\n",
              "         4.27610278e-01, -5.30704097e-01, -4.21117444e-01,\n",
              "        -9.89633793e-01,  6.06945669e-01,  1.39664501e+00,\n",
              "        -9.10194130e-01, -9.44180276e-01, -7.21067350e-01,\n",
              "        -9.17153967e-01],\n",
              "       [-9.30777759e-01,  6.96040264e-01,  8.61020172e-01,\n",
              "        -6.84455625e-01, -3.54485444e-03, -4.21117444e-01,\n",
              "         1.02332345e+00, -2.96011162e-01, -7.16001556e-01,\n",
              "        -1.99000351e-01, -9.44180276e-01, -7.21067350e-01,\n",
              "         1.14106010e+00],\n",
              "       [-4.22869576e-02,  6.96040264e-01,  8.61020172e-01,\n",
              "        -6.84455625e-01, -1.15199892e+00, -4.21117444e-01,\n",
              "        -9.89633793e-01, -1.69559425e+00, -7.16001556e-01,\n",
              "         3.34394983e-01,  6.67670338e-01,  3.23387781e-01,\n",
              "         1.14106010e+00],\n",
              "       [ 2.90897093e-01, -1.43669849e+00,  8.61020172e-01,\n",
              "        -6.84455625e-01,  1.97330231e+00, -4.21117444e-01,\n",
              "        -9.89633793e-01,  5.61797827e-01,  1.39664501e+00,\n",
              "        -3.76798796e-01, -9.44180276e-01, -7.21067350e-01,\n",
              "        -9.17153967e-01],\n",
              "       [ 4.01958443e-01,  6.96040264e-01, -1.52693233e-01,\n",
              "        -1.12928199e+00, -3.61260055e-01, -4.21117444e-01,\n",
              "         1.02332345e+00,  6.52093510e-01, -7.16001556e-01,\n",
              "         1.31228643e+00,  6.67670338e-01,  3.23387781e-01,\n",
              "         1.14106010e+00],\n",
              "       [ 1.17938789e+00,  6.96040264e-01,  8.61020172e-01,\n",
              "        -1.24048858e+00, -2.23719703e-02, -4.21117444e-01,\n",
              "         1.02332345e+00,  3.36058620e-01, -7.16001556e-01,\n",
              "        -3.76798796e-01, -9.44180276e-01,  1.36784291e+00,\n",
              "         6.26506583e-01],\n",
              "       [ 5.13019793e-01,  6.96040264e-01,  8.61020172e-01,\n",
              "         1.76208936e+00, -1.37792431e+00,  2.37463447e+00,\n",
              "         1.02332345e+00, -2.73399461e+00, -7.16001556e-01,\n",
              "        -2.12019066e-02,  6.67670338e-01,  1.36784291e+00,\n",
              "         6.26506583e-01],\n",
              "       [ 2.90897093e-01,  6.96040264e-01,  8.61020172e-01,\n",
              "         1.09484982e+00,  4.67133041e-01, -4.21117444e-01,\n",
              "        -9.89633793e-01, -2.82429029e+00,  1.39664501e+00,\n",
              "         1.56596538e-01,  6.67670338e-01,  3.23387781e-01,\n",
              "         1.14106010e+00],\n",
              "       [ 2.90897093e-01,  6.96040264e-01, -1.52693233e-01,\n",
              "        -2.39629264e-01, -3.80087171e-01, -4.21117444e-01,\n",
              "         1.02332345e+00, -2.51241127e-02, -7.16001556e-01,\n",
              "        -5.54597241e-01,  6.67670338e-01,  3.23387781e-01,\n",
              "         1.14106010e+00],\n",
              "       [-3.75471008e-01,  6.96040264e-01, -2.18012004e+00,\n",
              "        -4.06439149e-01, -6.81321024e-01, -4.21117444e-01,\n",
              "         1.02332345e+00, -1.15382015e+00,  1.39664501e+00,\n",
              "         3.34394983e-01, -9.44180276e-01,  3.23387781e-01,\n",
              "        -9.17153967e-01],\n",
              "       [ 2.17894005e+00, -1.43669849e+00, -1.16640664e+00,\n",
              "        -6.84455625e-01,  3.72997462e-01, -4.21117444e-01,\n",
              "         1.02332345e+00, -1.33441152e+00,  1.39664501e+00,\n",
              "        -7.32395686e-01, -9.44180276e-01,  3.23387781e-01,\n",
              "        -9.17153967e-01],\n",
              "       [ 1.73469464e+00,  6.96040264e-01, -1.52693233e-01,\n",
              "         1.53967618e+00,  3.72997462e-01, -4.21117444e-01,\n",
              "        -9.89633793e-01, -1.74074209e+00,  1.39664501e+00,\n",
              "         1.66788332e+00,  6.67670338e-01,  3.23387781e-01,\n",
              "         1.14106010e+00],\n",
              "       [ 4.01958443e-01, -1.43669849e+00, -1.52693233e-01,\n",
              "        -6.84455625e-01,  1.70972269e+00, -4.21117444e-01,\n",
              "        -9.89633793e-01,  9.68128401e-01, -7.16001556e-01,\n",
              "        -9.10194130e-01, -9.44180276e-01, -7.21067350e-01,\n",
              "        -9.17153967e-01],\n",
              "       [ 1.79835743e-01,  6.96040264e-01, -1.16640664e+00,\n",
              "        -1.28422673e-01, -5.30704097e-01, -4.21117444e-01,\n",
              "         1.02332345e+00,  5.61797827e-01, -7.16001556e-01,\n",
              "        -9.10194130e-01, -9.44180276e-01, -7.21067350e-01,\n",
              "         1.14106010e+00],\n",
              "       [ 1.06832654e+00,  6.96040264e-01,  8.61020172e-01,\n",
              "        -6.84455625e-01, -6.00262019e-02, -4.21117444e-01,\n",
              "         1.02332345e+00, -2.46310756e+00,  1.39664501e+00,\n",
              "         1.04558876e+00,  2.27952095e+00,  3.23387781e-01,\n",
              "        -9.17153967e-01]])"
            ]
          },
          "metadata": {},
          "execution_count": 122
        }
      ]
    },
    {
      "cell_type": "code",
      "source": [
        "#Shape of train and test data\n",
        "print ('Train set:', X_train.shape,  y_train.shape)\n",
        "print ('Test set:', X_test.shape,  y_test.shape)"
      ],
      "metadata": {
        "colab": {
          "base_uri": "https://localhost:8080/"
        },
        "id": "uC4YEtY-xXqB",
        "outputId": "b8ffb8bd-3b3f-4d0c-b452-fe4157ca8b81"
      },
      "execution_count": 123,
      "outputs": [
        {
          "output_type": "stream",
          "name": "stdout",
          "text": [
            "Train set: (239, 13) (239,)\n",
            "Test set: (60, 13) (60,)\n"
          ]
        }
      ]
    },
    {
      "cell_type": "code",
      "source": [
        "# Using KNeighborsClassifier\n",
        "from sklearn.neighbors import KNeighborsClassifier"
      ],
      "metadata": {
        "id": "dJAv7DFsxc5G"
      },
      "execution_count": 124,
      "outputs": []
    },
    {
      "cell_type": "code",
      "source": [
        "#Train Model\n",
        "neigh = KNeighborsClassifier(n_neighbors = 4).fit(X_train,y_train)"
      ],
      "metadata": {
        "id": "gPaCmMf0xfha"
      },
      "execution_count": 125,
      "outputs": []
    },
    {
      "cell_type": "code",
      "source": [
        "#Prediction\n",
        "prediction = neigh.predict(X_test)"
      ],
      "metadata": {
        "id": "U2F4cOx3xik-"
      },
      "execution_count": 126,
      "outputs": []
    },
    {
      "cell_type": "code",
      "source": [
        "prediction1=pd.DataFrame(prediction)\n",
        "prediction1.head()"
      ],
      "metadata": {
        "colab": {
          "base_uri": "https://localhost:8080/",
          "height": 206
        },
        "id": "0VibVZlOxlCK",
        "outputId": "5122554f-0d9b-43d2-aeac-7b83521c5520"
      },
      "execution_count": 127,
      "outputs": [
        {
          "output_type": "execute_result",
          "data": {
            "text/plain": [
              "   0\n",
              "0  1\n",
              "1  0\n",
              "2  0\n",
              "3  0\n",
              "4  0"
            ],
            "text/html": [
              "\n",
              "  <div id=\"df-9aedcca7-c0c0-493e-9aa3-fbd2c3f04fc0\">\n",
              "    <div class=\"colab-df-container\">\n",
              "      <div>\n",
              "<style scoped>\n",
              "    .dataframe tbody tr th:only-of-type {\n",
              "        vertical-align: middle;\n",
              "    }\n",
              "\n",
              "    .dataframe tbody tr th {\n",
              "        vertical-align: top;\n",
              "    }\n",
              "\n",
              "    .dataframe thead th {\n",
              "        text-align: right;\n",
              "    }\n",
              "</style>\n",
              "<table border=\"1\" class=\"dataframe\">\n",
              "  <thead>\n",
              "    <tr style=\"text-align: right;\">\n",
              "      <th></th>\n",
              "      <th>0</th>\n",
              "    </tr>\n",
              "  </thead>\n",
              "  <tbody>\n",
              "    <tr>\n",
              "      <th>0</th>\n",
              "      <td>1</td>\n",
              "    </tr>\n",
              "    <tr>\n",
              "      <th>1</th>\n",
              "      <td>0</td>\n",
              "    </tr>\n",
              "    <tr>\n",
              "      <th>2</th>\n",
              "      <td>0</td>\n",
              "    </tr>\n",
              "    <tr>\n",
              "      <th>3</th>\n",
              "      <td>0</td>\n",
              "    </tr>\n",
              "    <tr>\n",
              "      <th>4</th>\n",
              "      <td>0</td>\n",
              "    </tr>\n",
              "  </tbody>\n",
              "</table>\n",
              "</div>\n",
              "      <button class=\"colab-df-convert\" onclick=\"convertToInteractive('df-9aedcca7-c0c0-493e-9aa3-fbd2c3f04fc0')\"\n",
              "              title=\"Convert this dataframe to an interactive table.\"\n",
              "              style=\"display:none;\">\n",
              "        \n",
              "  <svg xmlns=\"http://www.w3.org/2000/svg\" height=\"24px\"viewBox=\"0 0 24 24\"\n",
              "       width=\"24px\">\n",
              "    <path d=\"M0 0h24v24H0V0z\" fill=\"none\"/>\n",
              "    <path d=\"M18.56 5.44l.94 2.06.94-2.06 2.06-.94-2.06-.94-.94-2.06-.94 2.06-2.06.94zm-11 1L8.5 8.5l.94-2.06 2.06-.94-2.06-.94L8.5 2.5l-.94 2.06-2.06.94zm10 10l.94 2.06.94-2.06 2.06-.94-2.06-.94-.94-2.06-.94 2.06-2.06.94z\"/><path d=\"M17.41 7.96l-1.37-1.37c-.4-.4-.92-.59-1.43-.59-.52 0-1.04.2-1.43.59L10.3 9.45l-7.72 7.72c-.78.78-.78 2.05 0 2.83L4 21.41c.39.39.9.59 1.41.59.51 0 1.02-.2 1.41-.59l7.78-7.78 2.81-2.81c.8-.78.8-2.07 0-2.86zM5.41 20L4 18.59l7.72-7.72 1.47 1.35L5.41 20z\"/>\n",
              "  </svg>\n",
              "      </button>\n",
              "      \n",
              "  <style>\n",
              "    .colab-df-container {\n",
              "      display:flex;\n",
              "      flex-wrap:wrap;\n",
              "      gap: 12px;\n",
              "    }\n",
              "\n",
              "    .colab-df-convert {\n",
              "      background-color: #E8F0FE;\n",
              "      border: none;\n",
              "      border-radius: 50%;\n",
              "      cursor: pointer;\n",
              "      display: none;\n",
              "      fill: #1967D2;\n",
              "      height: 32px;\n",
              "      padding: 0 0 0 0;\n",
              "      width: 32px;\n",
              "    }\n",
              "\n",
              "    .colab-df-convert:hover {\n",
              "      background-color: #E2EBFA;\n",
              "      box-shadow: 0px 1px 2px rgba(60, 64, 67, 0.3), 0px 1px 3px 1px rgba(60, 64, 67, 0.15);\n",
              "      fill: #174EA6;\n",
              "    }\n",
              "\n",
              "    [theme=dark] .colab-df-convert {\n",
              "      background-color: #3B4455;\n",
              "      fill: #D2E3FC;\n",
              "    }\n",
              "\n",
              "    [theme=dark] .colab-df-convert:hover {\n",
              "      background-color: #434B5C;\n",
              "      box-shadow: 0px 1px 3px 1px rgba(0, 0, 0, 0.15);\n",
              "      filter: drop-shadow(0px 1px 2px rgba(0, 0, 0, 0.3));\n",
              "      fill: #FFFFFF;\n",
              "    }\n",
              "  </style>\n",
              "\n",
              "      <script>\n",
              "        const buttonEl =\n",
              "          document.querySelector('#df-9aedcca7-c0c0-493e-9aa3-fbd2c3f04fc0 button.colab-df-convert');\n",
              "        buttonEl.style.display =\n",
              "          google.colab.kernel.accessAllowed ? 'block' : 'none';\n",
              "\n",
              "        async function convertToInteractive(key) {\n",
              "          const element = document.querySelector('#df-9aedcca7-c0c0-493e-9aa3-fbd2c3f04fc0');\n",
              "          const dataTable =\n",
              "            await google.colab.kernel.invokeFunction('convertToInteractive',\n",
              "                                                     [key], {});\n",
              "          if (!dataTable) return;\n",
              "\n",
              "          const docLinkHtml = 'Like what you see? Visit the ' +\n",
              "            '<a target=\"_blank\" href=https://colab.research.google.com/notebooks/data_table.ipynb>data table notebook</a>'\n",
              "            + ' to learn more about interactive tables.';\n",
              "          element.innerHTML = '';\n",
              "          dataTable['output_type'] = 'display_data';\n",
              "          await google.colab.output.renderOutput(dataTable, element);\n",
              "          const docLink = document.createElement('div');\n",
              "          docLink.innerHTML = docLinkHtml;\n",
              "          element.appendChild(docLink);\n",
              "        }\n",
              "      </script>\n",
              "    </div>\n",
              "  </div>\n",
              "  "
            ]
          },
          "metadata": {},
          "execution_count": 127
        }
      ]
    },
    {
      "cell_type": "code",
      "source": [
        "#Accuracy\n",
        "from sklearn import metrics\n",
        "metrics.accuracy_score(y_test, prediction)"
      ],
      "metadata": {
        "colab": {
          "base_uri": "https://localhost:8080/"
        },
        "id": "F4q356ZdxnjE",
        "outputId": "99af22f7-b7ff-473e-ee1e-7a181a0901f0"
      },
      "execution_count": 128,
      "outputs": [
        {
          "output_type": "execute_result",
          "data": {
            "text/plain": [
              "0.5666666666666667"
            ]
          },
          "metadata": {},
          "execution_count": 128
        }
      ]
    },
    {
      "cell_type": "code",
      "source": [
        "# Now Using SVM Algorithm \n",
        "from sklearn.svm import SVC\n",
        "classifier=SVC(kernel='rbf',random_state=0)\n",
        "classifier.fit(X_train,y_train)"
      ],
      "metadata": {
        "colab": {
          "base_uri": "https://localhost:8080/"
        },
        "id": "Yk6MYXKJxqp-",
        "outputId": "e6800147-a225-48df-a011-c5d96cde6e5e"
      },
      "execution_count": 129,
      "outputs": [
        {
          "output_type": "execute_result",
          "data": {
            "text/plain": [
              "SVC(random_state=0)"
            ]
          },
          "metadata": {},
          "execution_count": 129
        }
      ]
    },
    {
      "cell_type": "code",
      "source": [
        "#Predict\n",
        "y_pred=classifier.predict(X_test)"
      ],
      "metadata": {
        "id": "BBw3Kd9FxvNN"
      },
      "execution_count": 130,
      "outputs": []
    },
    {
      "cell_type": "code",
      "source": [
        "prediction2=pd.DataFrame(y_pred)\n",
        "prediction2.head()"
      ],
      "metadata": {
        "colab": {
          "base_uri": "https://localhost:8080/",
          "height": 206
        },
        "id": "A30wjlgm25iG",
        "outputId": "6e340bc2-b014-4c83-cee5-65c31ee65cbf"
      },
      "execution_count": 131,
      "outputs": [
        {
          "output_type": "execute_result",
          "data": {
            "text/plain": [
              "   0\n",
              "0  1\n",
              "1  0\n",
              "2  1\n",
              "3  0\n",
              "4  0"
            ],
            "text/html": [
              "\n",
              "  <div id=\"df-df6e2ff2-3135-4380-a3ff-081130daf3b7\">\n",
              "    <div class=\"colab-df-container\">\n",
              "      <div>\n",
              "<style scoped>\n",
              "    .dataframe tbody tr th:only-of-type {\n",
              "        vertical-align: middle;\n",
              "    }\n",
              "\n",
              "    .dataframe tbody tr th {\n",
              "        vertical-align: top;\n",
              "    }\n",
              "\n",
              "    .dataframe thead th {\n",
              "        text-align: right;\n",
              "    }\n",
              "</style>\n",
              "<table border=\"1\" class=\"dataframe\">\n",
              "  <thead>\n",
              "    <tr style=\"text-align: right;\">\n",
              "      <th></th>\n",
              "      <th>0</th>\n",
              "    </tr>\n",
              "  </thead>\n",
              "  <tbody>\n",
              "    <tr>\n",
              "      <th>0</th>\n",
              "      <td>1</td>\n",
              "    </tr>\n",
              "    <tr>\n",
              "      <th>1</th>\n",
              "      <td>0</td>\n",
              "    </tr>\n",
              "    <tr>\n",
              "      <th>2</th>\n",
              "      <td>1</td>\n",
              "    </tr>\n",
              "    <tr>\n",
              "      <th>3</th>\n",
              "      <td>0</td>\n",
              "    </tr>\n",
              "    <tr>\n",
              "      <th>4</th>\n",
              "      <td>0</td>\n",
              "    </tr>\n",
              "  </tbody>\n",
              "</table>\n",
              "</div>\n",
              "      <button class=\"colab-df-convert\" onclick=\"convertToInteractive('df-df6e2ff2-3135-4380-a3ff-081130daf3b7')\"\n",
              "              title=\"Convert this dataframe to an interactive table.\"\n",
              "              style=\"display:none;\">\n",
              "        \n",
              "  <svg xmlns=\"http://www.w3.org/2000/svg\" height=\"24px\"viewBox=\"0 0 24 24\"\n",
              "       width=\"24px\">\n",
              "    <path d=\"M0 0h24v24H0V0z\" fill=\"none\"/>\n",
              "    <path d=\"M18.56 5.44l.94 2.06.94-2.06 2.06-.94-2.06-.94-.94-2.06-.94 2.06-2.06.94zm-11 1L8.5 8.5l.94-2.06 2.06-.94-2.06-.94L8.5 2.5l-.94 2.06-2.06.94zm10 10l.94 2.06.94-2.06 2.06-.94-2.06-.94-.94-2.06-.94 2.06-2.06.94z\"/><path d=\"M17.41 7.96l-1.37-1.37c-.4-.4-.92-.59-1.43-.59-.52 0-1.04.2-1.43.59L10.3 9.45l-7.72 7.72c-.78.78-.78 2.05 0 2.83L4 21.41c.39.39.9.59 1.41.59.51 0 1.02-.2 1.41-.59l7.78-7.78 2.81-2.81c.8-.78.8-2.07 0-2.86zM5.41 20L4 18.59l7.72-7.72 1.47 1.35L5.41 20z\"/>\n",
              "  </svg>\n",
              "      </button>\n",
              "      \n",
              "  <style>\n",
              "    .colab-df-container {\n",
              "      display:flex;\n",
              "      flex-wrap:wrap;\n",
              "      gap: 12px;\n",
              "    }\n",
              "\n",
              "    .colab-df-convert {\n",
              "      background-color: #E8F0FE;\n",
              "      border: none;\n",
              "      border-radius: 50%;\n",
              "      cursor: pointer;\n",
              "      display: none;\n",
              "      fill: #1967D2;\n",
              "      height: 32px;\n",
              "      padding: 0 0 0 0;\n",
              "      width: 32px;\n",
              "    }\n",
              "\n",
              "    .colab-df-convert:hover {\n",
              "      background-color: #E2EBFA;\n",
              "      box-shadow: 0px 1px 2px rgba(60, 64, 67, 0.3), 0px 1px 3px 1px rgba(60, 64, 67, 0.15);\n",
              "      fill: #174EA6;\n",
              "    }\n",
              "\n",
              "    [theme=dark] .colab-df-convert {\n",
              "      background-color: #3B4455;\n",
              "      fill: #D2E3FC;\n",
              "    }\n",
              "\n",
              "    [theme=dark] .colab-df-convert:hover {\n",
              "      background-color: #434B5C;\n",
              "      box-shadow: 0px 1px 3px 1px rgba(0, 0, 0, 0.15);\n",
              "      filter: drop-shadow(0px 1px 2px rgba(0, 0, 0, 0.3));\n",
              "      fill: #FFFFFF;\n",
              "    }\n",
              "  </style>\n",
              "\n",
              "      <script>\n",
              "        const buttonEl =\n",
              "          document.querySelector('#df-df6e2ff2-3135-4380-a3ff-081130daf3b7 button.colab-df-convert');\n",
              "        buttonEl.style.display =\n",
              "          google.colab.kernel.accessAllowed ? 'block' : 'none';\n",
              "\n",
              "        async function convertToInteractive(key) {\n",
              "          const element = document.querySelector('#df-df6e2ff2-3135-4380-a3ff-081130daf3b7');\n",
              "          const dataTable =\n",
              "            await google.colab.kernel.invokeFunction('convertToInteractive',\n",
              "                                                     [key], {});\n",
              "          if (!dataTable) return;\n",
              "\n",
              "          const docLinkHtml = 'Like what you see? Visit the ' +\n",
              "            '<a target=\"_blank\" href=https://colab.research.google.com/notebooks/data_table.ipynb>data table notebook</a>'\n",
              "            + ' to learn more about interactive tables.';\n",
              "          element.innerHTML = '';\n",
              "          dataTable['output_type'] = 'display_data';\n",
              "          await google.colab.output.renderOutput(dataTable, element);\n",
              "          const docLink = document.createElement('div');\n",
              "          docLink.innerHTML = docLinkHtml;\n",
              "          element.appendChild(docLink);\n",
              "        }\n",
              "      </script>\n",
              "    </div>\n",
              "  </div>\n",
              "  "
            ]
          },
          "metadata": {},
          "execution_count": 131
        }
      ]
    },
    {
      "cell_type": "code",
      "source": [
        "metrics.accuracy_score(y_test, prediction2)"
      ],
      "metadata": {
        "colab": {
          "base_uri": "https://localhost:8080/"
        },
        "id": "FExnnUiO27oN",
        "outputId": "6ae7e735-2a77-4861-f8bb-93623681746c"
      },
      "execution_count": 132,
      "outputs": [
        {
          "output_type": "execute_result",
          "data": {
            "text/plain": [
              "0.5666666666666667"
            ]
          },
          "metadata": {},
          "execution_count": 132
        }
      ]
    },
    {
      "cell_type": "code",
      "source": [
        "from sklearn.metrics import confusion_matrix\n",
        "confusion_matrix(y_test,prediction1)"
      ],
      "metadata": {
        "colab": {
          "base_uri": "https://localhost:8080/"
        },
        "id": "1aFdTP8G29hp",
        "outputId": "1b91f554-a1ea-4a12-883d-581626936942"
      },
      "execution_count": 133,
      "outputs": [
        {
          "output_type": "execute_result",
          "data": {
            "text/plain": [
              "array([[28,  1,  0,  0,  0],\n",
              "       [ 7,  3,  1,  1,  0],\n",
              "       [ 7,  1,  1,  0,  0],\n",
              "       [ 1,  3,  2,  2,  1],\n",
              "       [ 0,  0,  1,  0,  0]])"
            ]
          },
          "metadata": {},
          "execution_count": 133
        }
      ]
    },
    {
      "cell_type": "code",
      "source": [
        "confusion_matrix(y_test,prediction2)"
      ],
      "metadata": {
        "colab": {
          "base_uri": "https://localhost:8080/"
        },
        "id": "OHlpE0YA2_v2",
        "outputId": "5f6c4d1e-a54e-47d7-e2ae-6b90ebcd4f2a"
      },
      "execution_count": 134,
      "outputs": [
        {
          "output_type": "execute_result",
          "data": {
            "text/plain": [
              "array([[28,  1,  0,  0,  0],\n",
              "       [ 9,  3,  0,  0,  0],\n",
              "       [ 5,  2,  2,  0,  0],\n",
              "       [ 3,  3,  2,  1,  0],\n",
              "       [ 1,  0,  0,  0,  0]])"
            ]
          },
          "metadata": {},
          "execution_count": 134
        }
      ]
    },
    {
      "cell_type": "code",
      "source": [
        "from sklearn.tree import DecisionTreeClassifier\n",
        "HeartTree = DecisionTreeClassifier(criterion=\"entropy\", max_depth = 4)"
      ],
      "metadata": {
        "id": "2qeT2oNK3DQy"
      },
      "execution_count": 135,
      "outputs": []
    },
    {
      "cell_type": "code",
      "source": [
        "HeartTree.fit(X_train,y_train)"
      ],
      "metadata": {
        "colab": {
          "base_uri": "https://localhost:8080/"
        },
        "id": "07H6VA5v3GKm",
        "outputId": "01e27b9f-08f2-40ab-e5af-94c007e18437"
      },
      "execution_count": 136,
      "outputs": [
        {
          "output_type": "execute_result",
          "data": {
            "text/plain": [
              "DecisionTreeClassifier(criterion='entropy', max_depth=4)"
            ]
          },
          "metadata": {},
          "execution_count": 136
        }
      ]
    },
    {
      "cell_type": "code",
      "source": [
        "y_pred = HeartTree.predict(X_test)"
      ],
      "metadata": {
        "id": "xsMg7HDZ3IDp"
      },
      "execution_count": 137,
      "outputs": []
    },
    {
      "cell_type": "code",
      "source": [
        "prediction3=pd.DataFrame(y_pred)\n",
        "prediction3.head()"
      ],
      "metadata": {
        "colab": {
          "base_uri": "https://localhost:8080/",
          "height": 206
        },
        "id": "exsQtxJS3J2V",
        "outputId": "19d4e681-48f2-47d5-dc21-ecd3dabf7332"
      },
      "execution_count": 138,
      "outputs": [
        {
          "output_type": "execute_result",
          "data": {
            "text/plain": [
              "   0\n",
              "0  0\n",
              "1  0\n",
              "2  0\n",
              "3  0\n",
              "4  0"
            ],
            "text/html": [
              "\n",
              "  <div id=\"df-b879149e-5f4d-4c3b-8403-a00ee1167d0a\">\n",
              "    <div class=\"colab-df-container\">\n",
              "      <div>\n",
              "<style scoped>\n",
              "    .dataframe tbody tr th:only-of-type {\n",
              "        vertical-align: middle;\n",
              "    }\n",
              "\n",
              "    .dataframe tbody tr th {\n",
              "        vertical-align: top;\n",
              "    }\n",
              "\n",
              "    .dataframe thead th {\n",
              "        text-align: right;\n",
              "    }\n",
              "</style>\n",
              "<table border=\"1\" class=\"dataframe\">\n",
              "  <thead>\n",
              "    <tr style=\"text-align: right;\">\n",
              "      <th></th>\n",
              "      <th>0</th>\n",
              "    </tr>\n",
              "  </thead>\n",
              "  <tbody>\n",
              "    <tr>\n",
              "      <th>0</th>\n",
              "      <td>0</td>\n",
              "    </tr>\n",
              "    <tr>\n",
              "      <th>1</th>\n",
              "      <td>0</td>\n",
              "    </tr>\n",
              "    <tr>\n",
              "      <th>2</th>\n",
              "      <td>0</td>\n",
              "    </tr>\n",
              "    <tr>\n",
              "      <th>3</th>\n",
              "      <td>0</td>\n",
              "    </tr>\n",
              "    <tr>\n",
              "      <th>4</th>\n",
              "      <td>0</td>\n",
              "    </tr>\n",
              "  </tbody>\n",
              "</table>\n",
              "</div>\n",
              "      <button class=\"colab-df-convert\" onclick=\"convertToInteractive('df-b879149e-5f4d-4c3b-8403-a00ee1167d0a')\"\n",
              "              title=\"Convert this dataframe to an interactive table.\"\n",
              "              style=\"display:none;\">\n",
              "        \n",
              "  <svg xmlns=\"http://www.w3.org/2000/svg\" height=\"24px\"viewBox=\"0 0 24 24\"\n",
              "       width=\"24px\">\n",
              "    <path d=\"M0 0h24v24H0V0z\" fill=\"none\"/>\n",
              "    <path d=\"M18.56 5.44l.94 2.06.94-2.06 2.06-.94-2.06-.94-.94-2.06-.94 2.06-2.06.94zm-11 1L8.5 8.5l.94-2.06 2.06-.94-2.06-.94L8.5 2.5l-.94 2.06-2.06.94zm10 10l.94 2.06.94-2.06 2.06-.94-2.06-.94-.94-2.06-.94 2.06-2.06.94z\"/><path d=\"M17.41 7.96l-1.37-1.37c-.4-.4-.92-.59-1.43-.59-.52 0-1.04.2-1.43.59L10.3 9.45l-7.72 7.72c-.78.78-.78 2.05 0 2.83L4 21.41c.39.39.9.59 1.41.59.51 0 1.02-.2 1.41-.59l7.78-7.78 2.81-2.81c.8-.78.8-2.07 0-2.86zM5.41 20L4 18.59l7.72-7.72 1.47 1.35L5.41 20z\"/>\n",
              "  </svg>\n",
              "      </button>\n",
              "      \n",
              "  <style>\n",
              "    .colab-df-container {\n",
              "      display:flex;\n",
              "      flex-wrap:wrap;\n",
              "      gap: 12px;\n",
              "    }\n",
              "\n",
              "    .colab-df-convert {\n",
              "      background-color: #E8F0FE;\n",
              "      border: none;\n",
              "      border-radius: 50%;\n",
              "      cursor: pointer;\n",
              "      display: none;\n",
              "      fill: #1967D2;\n",
              "      height: 32px;\n",
              "      padding: 0 0 0 0;\n",
              "      width: 32px;\n",
              "    }\n",
              "\n",
              "    .colab-df-convert:hover {\n",
              "      background-color: #E2EBFA;\n",
              "      box-shadow: 0px 1px 2px rgba(60, 64, 67, 0.3), 0px 1px 3px 1px rgba(60, 64, 67, 0.15);\n",
              "      fill: #174EA6;\n",
              "    }\n",
              "\n",
              "    [theme=dark] .colab-df-convert {\n",
              "      background-color: #3B4455;\n",
              "      fill: #D2E3FC;\n",
              "    }\n",
              "\n",
              "    [theme=dark] .colab-df-convert:hover {\n",
              "      background-color: #434B5C;\n",
              "      box-shadow: 0px 1px 3px 1px rgba(0, 0, 0, 0.15);\n",
              "      filter: drop-shadow(0px 1px 2px rgba(0, 0, 0, 0.3));\n",
              "      fill: #FFFFFF;\n",
              "    }\n",
              "  </style>\n",
              "\n",
              "      <script>\n",
              "        const buttonEl =\n",
              "          document.querySelector('#df-b879149e-5f4d-4c3b-8403-a00ee1167d0a button.colab-df-convert');\n",
              "        buttonEl.style.display =\n",
              "          google.colab.kernel.accessAllowed ? 'block' : 'none';\n",
              "\n",
              "        async function convertToInteractive(key) {\n",
              "          const element = document.querySelector('#df-b879149e-5f4d-4c3b-8403-a00ee1167d0a');\n",
              "          const dataTable =\n",
              "            await google.colab.kernel.invokeFunction('convertToInteractive',\n",
              "                                                     [key], {});\n",
              "          if (!dataTable) return;\n",
              "\n",
              "          const docLinkHtml = 'Like what you see? Visit the ' +\n",
              "            '<a target=\"_blank\" href=https://colab.research.google.com/notebooks/data_table.ipynb>data table notebook</a>'\n",
              "            + ' to learn more about interactive tables.';\n",
              "          element.innerHTML = '';\n",
              "          dataTable['output_type'] = 'display_data';\n",
              "          await google.colab.output.renderOutput(dataTable, element);\n",
              "          const docLink = document.createElement('div');\n",
              "          docLink.innerHTML = docLinkHtml;\n",
              "          element.appendChild(docLink);\n",
              "        }\n",
              "      </script>\n",
              "    </div>\n",
              "  </div>\n",
              "  "
            ]
          },
          "metadata": {},
          "execution_count": 138
        }
      ]
    },
    {
      "cell_type": "code",
      "source": [
        "#Accuracy\n",
        "metrics.accuracy_score(y_test,prediction3)"
      ],
      "metadata": {
        "colab": {
          "base_uri": "https://localhost:8080/"
        },
        "id": "QMJnsWFl3MHh",
        "outputId": "9d5b813f-14f2-42c8-fca4-139a1645be73"
      },
      "execution_count": 139,
      "outputs": [
        {
          "output_type": "execute_result",
          "data": {
            "text/plain": [
              "0.6"
            ]
          },
          "metadata": {},
          "execution_count": 139
        }
      ]
    },
    {
      "cell_type": "code",
      "source": [
        "confusion_matrix(y_test,prediction3)"
      ],
      "metadata": {
        "colab": {
          "base_uri": "https://localhost:8080/"
        },
        "id": "0dayBCX13OdW",
        "outputId": "825361a4-d16a-4926-afd5-b1dc10ab25da"
      },
      "execution_count": 140,
      "outputs": [
        {
          "output_type": "execute_result",
          "data": {
            "text/plain": [
              "array([[28,  0,  0,  1,  0],\n",
              "       [ 6,  3,  2,  1,  0],\n",
              "       [ 4,  0,  4,  1,  0],\n",
              "       [ 1,  2,  5,  1,  0],\n",
              "       [ 1,  0,  0,  0,  0]])"
            ]
          },
          "metadata": {},
          "execution_count": 140
        }
      ]
    },
    {
      "cell_type": "code",
      "source": [
        ""
      ],
      "metadata": {
        "id": "ym_KBG1o3Q1l"
      },
      "execution_count": 140,
      "outputs": []
    }
  ]
}